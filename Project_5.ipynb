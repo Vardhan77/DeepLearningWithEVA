{
  "nbformat": 4,
  "nbformat_minor": 0,
  "metadata": {
    "colab": {
      "name": "Project 5.ipynb",
      "version": "0.3.2",
      "provenance": [],
      "collapsed_sections": [],
      "include_colab_link": true
    },
    "kernelspec": {
      "name": "python3",
      "display_name": "Python 3"
    },
    "accelerator": "GPU"
  },
  "cells": [
    {
      "cell_type": "markdown",
      "metadata": {
        "id": "view-in-github",
        "colab_type": "text"
      },
      "source": [
        "<a href=\"https://colab.research.google.com/github/Vardhan77/DeepLearningWithEVA/blob/master/Project_5.ipynb\" target=\"_parent\"><img src=\"https://colab.research.google.com/assets/colab-badge.svg\" alt=\"Open In Colab\"/></a>"
      ]
    },
    {
      "cell_type": "markdown",
      "metadata": {
        "id": "nkvmFZaRxrvV",
        "colab_type": "text"
      },
      "source": [
        "**Project 5**\n",
        "\n",
        "Adding Kernel Regularizers\n",
        "\n",
        "image normalization\n",
        "\n",
        "L2 regularization\n",
        "\n",
        "ReLU after BN\n",
        "\n",
        "Run your new code for 40 epochs and save the model with highest validation accuracy\n",
        "\n",
        "Find out 25 misclassified images from the validation dataset and create an image gallery\n"
      ]
    },
    {
      "cell_type": "markdown",
      "metadata": {
        "id": "aNyZv-Ec52ot",
        "colab_type": "text"
      },
      "source": [
        "# **Import Libraries and modules**"
      ]
    },
    {
      "cell_type": "code",
      "metadata": {
        "id": "3m3w1Cw49Zkt",
        "colab_type": "code",
        "colab": {}
      },
      "source": [
        "# https://keras.io/\n",
        "!pip install -q keras\n",
        "import keras "
      ],
      "execution_count": 0,
      "outputs": []
    },
    {
      "cell_type": "code",
      "metadata": {
        "id": "Zmf7J6eAQKmm",
        "colab_type": "code",
        "outputId": "1514d711-0080-40bc-c48c-9a70bf9bec77",
        "colab": {
          "base_uri": "https://localhost:8080/",
          "height": 104
        }
      },
      "source": [
        "from google.colab import drive\n",
        "drive.mount('/content/drive')"
      ],
      "execution_count": 0,
      "outputs": [
        {
          "output_type": "stream",
          "text": [
            "Go to this URL in a browser: https://accounts.google.com/o/oauth2/auth?client_id=947318989803-6bn6qk8qdgf4n4g3pfee6491hc0brc4i.apps.googleusercontent.com&redirect_uri=urn%3Aietf%3Awg%3Aoauth%3A2.0%3Aoob&scope=email%20https%3A%2F%2Fwww.googleapis.com%2Fauth%2Fdocs.test%20https%3A%2F%2Fwww.googleapis.com%2Fauth%2Fdrive%20https%3A%2F%2Fwww.googleapis.com%2Fauth%2Fdrive.photos.readonly%20https%3A%2F%2Fwww.googleapis.com%2Fauth%2Fpeopleapi.readonly&response_type=code\n",
            "\n",
            "Enter your authorization code:\n",
            "··········\n"
          ],
          "name": "stdout"
        }
      ]
    },
    {
      "cell_type": "code",
      "metadata": {
        "id": "Eso6UHE080D4",
        "colab_type": "code",
        "colab": {}
      },
      "source": [
        "import numpy as np\n",
        "\n",
        "from keras.models import Sequential\n",
        "from keras.layers import Dense, Dropout, Activation, Flatten, Add, BatchNormalization\n",
        "from keras.layers import Convolution2D, MaxPooling2D, Conv2D, Activation\n",
        "from keras.utils import np_utils\n",
        "# example of standardizing a image dataset\n",
        "from keras.datasets import mnist\n",
        "from keras.preprocessing.image import ImageDataGenerator\n",
        "from keras.callbacks import ModelCheckpoint\n",
        "\n",
        "from keras.datasets import mnist #The Avengers Assemble"
      ],
      "execution_count": 0,
      "outputs": []
    },
    {
      "cell_type": "markdown",
      "metadata": {
        "id": "zByEi95J86RD",
        "colab_type": "text"
      },
      "source": [
        "### Load pre-shuffled MNIST data into train and test sets"
      ]
    },
    {
      "cell_type": "code",
      "metadata": {
        "id": "7eRM0QWN83PV",
        "colab_type": "code",
        "colab": {}
      },
      "source": [
        "(X_train, y_train), (X_test, y_test) = mnist.load_data() #Loadin the data from mnist folder into a dataframe of training and test images."
      ],
      "execution_count": 0,
      "outputs": []
    },
    {
      "cell_type": "code",
      "metadata": {
        "id": "4a4Be72j8-ZC",
        "colab_type": "code",
        "outputId": "205c7c2b-0cd6-48d9-9418-e4475bbe80cd",
        "colab": {
          "base_uri": "https://localhost:8080/",
          "height": 302
        }
      },
      "source": [
        "print (X_train.shape)\n",
        "from matplotlib import pyplot as plt\n",
        "%matplotlib inline\n",
        "plt.imshow(X_train[0])"
      ],
      "execution_count": 0,
      "outputs": [
        {
          "output_type": "stream",
          "text": [
            "(60000, 28, 28)\n"
          ],
          "name": "stdout"
        },
        {
          "output_type": "execute_result",
          "data": {
            "text/plain": [
              "<matplotlib.image.AxesImage at 0x7fecd0cd3ac8>"
            ]
          },
          "metadata": {
            "tags": []
          },
          "execution_count": 28
        },
        {
          "output_type": "display_data",
          "data": {
            "image/png": "[encoded data removed]",
            "text/plain": [
              "<Figure size 432x288 with 1 Axes>"
            ]
          },
          "metadata": {
            "tags": []
          }
        }
      ]
    },
    {
      "cell_type": "code",
      "metadata": {
        "id": "dkmprriw9AnZ",
        "colab_type": "code",
        "colab": {}
      },
      "source": [
        "X_train = X_train.reshape(X_train.shape[0], 28, 28,1)\n",
        "X_test = X_test.reshape(X_test.shape[0], 28, 28,1)"
      ],
      "execution_count": 0,
      "outputs": []
    },
    {
      "cell_type": "code",
      "metadata": {
        "id": "IGeYSebC8MeQ",
        "colab_type": "code",
        "outputId": "5298810a-61b3-46e5-9251-83b2036727c0",
        "colab": {
          "base_uri": "https://localhost:8080/",
          "height": 84
        }
      },
      "source": [
        "# report pixel means and standard deviations\n",
        "print('Statistics train=%.3f (%.3f), test=%.3f (%.3f)' % (X_train.mean(), X_train.std(), X_test.mean(), X_test.std()))\n",
        "# create generator that centers pixel values\n",
        "datagen = ImageDataGenerator(featurewise_center=True, featurewise_std_normalization=True)\n",
        "# calculate the mean on the training dataset\n",
        "datagen.fit(X_train)\n",
        "print('Data Generator mean=%.3f, std=%.3f' % (datagen.mean, datagen.std))\n",
        "# demonstrate effect on a single batch of samples\n",
        "iterator = datagen.flow(X_train, y_train, batch_size=128)\n",
        "# get a batch\n",
        "batchX, batchy = iterator.next()\n",
        "# pixel stats in the batch\n",
        "print(batchX.shape, batchX.mean(), batchX.std())\n",
        "# demonstrate effect on entire training dataset\n",
        "iterator = datagen.flow(X_train, y_train, batch_size=len(X_train), shuffle=False)\n",
        "# get a batch\n",
        "batchX, batchy = iterator.next()\n",
        "# pixel stats in the batch\n",
        "print(batchX.shape, batchX.mean(), batchX.std())\n",
        "\n"
      ],
      "execution_count": 0,
      "outputs": [
        {
          "output_type": "stream",
          "text": [
            "Statistics train=33.318 (78.567), test=33.791 (79.172)\n",
            "Data Generator mean=33.318, std=78.567\n",
            "(128, 28, 28, 1) -0.015147499 0.98377854\n",
            "(60000, 28, 28, 1) -3.4560264e-07 0.9999998\n"
          ],
          "name": "stdout"
        }
      ]
    },
    {
      "cell_type": "code",
      "metadata": {
        "id": "X2m4YS4E9CRh",
        "colab_type": "code",
        "colab": {}
      },
      "source": [
        "X_train = X_train.astype('float32')\n",
        "X_test = X_test.astype('float32')\n",
        "X_train /= 255\n",
        "X_test /= 255"
      ],
      "execution_count": 0,
      "outputs": []
    },
    {
      "cell_type": "code",
      "metadata": {
        "id": "0Mn0vAYD9DvB",
        "colab_type": "code",
        "outputId": "7b04f3a5-41d7-450c-a520-ffe503aedddd",
        "colab": {
          "base_uri": "https://localhost:8080/",
          "height": 34
        }
      },
      "source": [
        "y_train[:10]"
      ],
      "execution_count": 0,
      "outputs": [
        {
          "output_type": "execute_result",
          "data": {
            "text/plain": [
              "array([5, 0, 4, 1, 9, 2, 1, 3, 1, 4], dtype=uint8)"
            ]
          },
          "metadata": {
            "tags": []
          },
          "execution_count": 32
        }
      ]
    },
    {
      "cell_type": "code",
      "metadata": {
        "id": "ZG8JiXR39FHC",
        "colab_type": "code",
        "colab": {}
      },
      "source": [
        "# Convert 1-dimensional class arrays to 10-dimensional class matrices\n",
        "Y_train = np_utils.to_categorical(y_train, 10)\n",
        "Y_test = np_utils.to_categorical(y_test, 10)"
      ],
      "execution_count": 0,
      "outputs": []
    },
    {
      "cell_type": "code",
      "metadata": {
        "id": "fYlFRvKS9HMB",
        "colab_type": "code",
        "outputId": "49a76357-68b8-443b-ebfb-87cbc7d0b8c1",
        "colab": {
          "base_uri": "https://localhost:8080/",
          "height": 185
        }
      },
      "source": [
        "Y_train[:10]"
      ],
      "execution_count": 0,
      "outputs": [
        {
          "output_type": "execute_result",
          "data": {
            "text/plain": [
              "array([[0., 0., 0., 0., 0., 1., 0., 0., 0., 0.],\n",
              "       [1., 0., 0., 0., 0., 0., 0., 0., 0., 0.],\n",
              "       [0., 0., 0., 0., 1., 0., 0., 0., 0., 0.],\n",
              "       [0., 1., 0., 0., 0., 0., 0., 0., 0., 0.],\n",
              "       [0., 0., 0., 0., 0., 0., 0., 0., 0., 1.],\n",
              "       [0., 0., 1., 0., 0., 0., 0., 0., 0., 0.],\n",
              "       [0., 1., 0., 0., 0., 0., 0., 0., 0., 0.],\n",
              "       [0., 0., 0., 1., 0., 0., 0., 0., 0., 0.],\n",
              "       [0., 1., 0., 0., 0., 0., 0., 0., 0., 0.],\n",
              "       [0., 0., 0., 0., 1., 0., 0., 0., 0., 0.]], dtype=float32)"
            ]
          },
          "metadata": {
            "tags": []
          },
          "execution_count": 34
        }
      ]
    },
    {
      "cell_type": "code",
      "metadata": {
        "id": "osKqT73Q9JJB",
        "colab_type": "code",
        "outputId": "835d8a29-e7ba-448a-829a-2b22b7e294a9",
        "colab": {
          "base_uri": "https://localhost:8080/",
          "height": 222
        }
      },
      "source": [
        "from keras.layers import Activation\n",
        "model = Sequential()\n",
        "\n",
        " \n",
        "model.add(Conv2D(18, 3, 3, activation='relu',kernel_regularizer=keras.regularizers.l2(0.01),input_shape=(28,28,1))) #26\n",
        "\n",
        "model.add(Conv2D(16, 3, 3)) #24\n",
        "model.add(BatchNormalization())\n",
        "model.add(Activation('relu'))\n",
        "\n",
        "model.add(Conv2D(18, 3, 3, activation='relu')) #22\n",
        "\n",
        "model.add(MaxPooling2D(pool_size=(2, 2)))#11\n",
        "\n",
        "model.add(Conv2D(15, 3, 3, activation='relu')) #9\n",
        "model.add(Dropout(0.15))\n",
        "\n",
        "model.add(Convolution2D(16, 3, 3, activation='relu')) #7\n",
        "\n",
        "model.add(Convolution2D(16, 3, 3, activation='relu')) #5\n",
        "\n",
        "model.add(Convolution2D(10, 1, 1)) #5\n",
        "\n",
        "model.add(Convolution2D(10, 5)) \n",
        "\n",
        "model.add(Flatten())\n",
        "model.add(Activation('softmax'))"
      ],
      "execution_count": 0,
      "outputs": [
        {
          "output_type": "stream",
          "text": [
            "/usr/local/lib/python3.6/dist-packages/ipykernel_launcher.py:5: UserWarning: Update your `Conv2D` call to the Keras 2 API: `Conv2D(18, (3, 3), activation=\"relu\", kernel_regularizer=<keras.reg..., input_shape=(28, 28, 1...)`\n",
            "  \"\"\"\n",
            "/usr/local/lib/python3.6/dist-packages/ipykernel_launcher.py:7: UserWarning: Update your `Conv2D` call to the Keras 2 API: `Conv2D(16, (3, 3))`\n",
            "  import sys\n",
            "/usr/local/lib/python3.6/dist-packages/ipykernel_launcher.py:11: UserWarning: Update your `Conv2D` call to the Keras 2 API: `Conv2D(18, (3, 3), activation=\"relu\")`\n",
            "  # This is added back by InteractiveShellApp.init_path()\n",
            "/usr/local/lib/python3.6/dist-packages/ipykernel_launcher.py:15: UserWarning: Update your `Conv2D` call to the Keras 2 API: `Conv2D(15, (3, 3), activation=\"relu\")`\n",
            "  from ipykernel import kernelapp as app\n",
            "/usr/local/lib/python3.6/dist-packages/ipykernel_launcher.py:18: UserWarning: Update your `Conv2D` call to the Keras 2 API: `Conv2D(16, (3, 3), activation=\"relu\")`\n",
            "/usr/local/lib/python3.6/dist-packages/ipykernel_launcher.py:20: UserWarning: Update your `Conv2D` call to the Keras 2 API: `Conv2D(16, (3, 3), activation=\"relu\")`\n",
            "/usr/local/lib/python3.6/dist-packages/ipykernel_launcher.py:22: UserWarning: Update your `Conv2D` call to the Keras 2 API: `Conv2D(10, (1, 1))`\n"
          ],
          "name": "stderr"
        }
      ]
    },
    {
      "cell_type": "code",
      "metadata": {
        "id": "TzdAYg1k9K7Z",
        "colab_type": "code",
        "outputId": "74d2704b-55f8-4893-e587-d39d906bb15f",
        "colab": {
          "base_uri": "https://localhost:8080/",
          "height": 605
        }
      },
      "source": [
        "model.summary()"
      ],
      "execution_count": 0,
      "outputs": [
        {
          "output_type": "stream",
          "text": [
            "_________________________________________________________________\n",
            "Layer (type)                 Output Shape              Param #   \n",
            "=================================================================\n",
            "conv2d_17 (Conv2D)           (None, 26, 26, 18)        180       \n",
            "_________________________________________________________________\n",
            "conv2d_18 (Conv2D)           (None, 24, 24, 16)        2608      \n",
            "_________________________________________________________________\n",
            "batch_normalization_3 (Batch (None, 24, 24, 16)        64        \n",
            "_________________________________________________________________\n",
            "activation_5 (Activation)    (None, 24, 24, 16)        0         \n",
            "_________________________________________________________________\n",
            "conv2d_19 (Conv2D)           (None, 22, 22, 18)        2610      \n",
            "_________________________________________________________________\n",
            "max_pooling2d_3 (MaxPooling2 (None, 11, 11, 18)        0         \n",
            "_________________________________________________________________\n",
            "conv2d_20 (Conv2D)           (None, 9, 9, 15)          2445      \n",
            "_________________________________________________________________\n",
            "dropout_3 (Dropout)          (None, 9, 9, 15)          0         \n",
            "_________________________________________________________________\n",
            "conv2d_21 (Conv2D)           (None, 7, 7, 16)          2176      \n",
            "_________________________________________________________________\n",
            "conv2d_22 (Conv2D)           (None, 5, 5, 16)          2320      \n",
            "_________________________________________________________________\n",
            "conv2d_23 (Conv2D)           (None, 5, 5, 10)          170       \n",
            "_________________________________________________________________\n",
            "conv2d_24 (Conv2D)           (None, 1, 1, 10)          2510      \n",
            "_________________________________________________________________\n",
            "flatten_3 (Flatten)          (None, 10)                0         \n",
            "_________________________________________________________________\n",
            "activation_6 (Activation)    (None, 10)                0         \n",
            "=================================================================\n",
            "Total params: 15,083\n",
            "Trainable params: 15,051\n",
            "Non-trainable params: 32\n",
            "_________________________________________________________________\n"
          ],
          "name": "stdout"
        }
      ]
    },
    {
      "cell_type": "code",
      "metadata": {
        "id": "YIFxlDliOV9F",
        "colab_type": "code",
        "colab": {}
      },
      "source": [
        "checkpointer = ModelCheckpoint(filepath=\"./drive/My Drive/MNIST is my bitch/model1.hdf5\", verbose=1, save_best_only=True, monitor=\"val_acc\")\n"
      ],
      "execution_count": 0,
      "outputs": []
    },
    {
      "cell_type": "code",
      "metadata": {
        "id": "4xWoKhPY9Of5",
        "colab_type": "code",
        "outputId": "5cfae330-936f-4f46-a853-2b46428ba0fa",
        "colab": {
          "base_uri": "https://localhost:8080/",
          "height": 1000
        }
      },
      "source": [
        "from keras.optimizers import Adam\n",
        "from keras.callbacks import LearningRateScheduler\n",
        "def scheduler(epoch, lr):\n",
        "  return round(0.003 * 1/(1 + 0.319 * epoch), 10)\n",
        "\n",
        "model.compile(loss='categorical_crossentropy', optimizer=Adam(lr=0.003), metrics=['accuracy'])\n",
        "model.fit(X_train, Y_train, batch_size=96, epochs=40, verbose=1, validation_data=(X_test, Y_test), callbacks=[LearningRateScheduler(scheduler, verbose=1),checkpointer])"
      ],
      "execution_count": 96,
      "outputs": [
        {
          "output_type": "stream",
          "text": [
            "Train on 60000 samples, validate on 10000 samples\n",
            "Epoch 1/40\n",
            "\n",
            "Epoch 00001: LearningRateScheduler setting learning rate to 0.003.\n",
            "60000/60000 [==============================] - 6s 106us/step - loss: 0.0444 - acc: 0.9867 - val_loss: 0.0475 - val_acc: 0.9847\n",
            "\n",
            "Epoch 00001: val_acc did not improve from 0.99390\n",
            "Epoch 2/40\n",
            "\n",
            "Epoch 00002: LearningRateScheduler setting learning rate to 0.0022744503.\n",
            "60000/60000 [==============================] - 5s 91us/step - loss: 0.0336 - acc: 0.9900 - val_loss: 0.0330 - val_acc: 0.9908\n",
            "\n",
            "Epoch 00002: val_acc did not improve from 0.99390\n",
            "Epoch 3/40\n",
            "\n",
            "Epoch 00003: LearningRateScheduler setting learning rate to 0.0018315018.\n",
            "60000/60000 [==============================] - 5s 91us/step - loss: 0.0246 - acc: 0.9926 - val_loss: 0.0312 - val_acc: 0.9909\n",
            "\n",
            "Epoch 00003: val_acc did not improve from 0.99390\n",
            "Epoch 4/40\n",
            "\n",
            "Epoch 00004: LearningRateScheduler setting learning rate to 0.0015329586.\n",
            "60000/60000 [==============================] - 5s 91us/step - loss: 0.0234 - acc: 0.9932 - val_loss: 0.0303 - val_acc: 0.9911\n",
            "\n",
            "Epoch 00004: val_acc did not improve from 0.99390\n",
            "Epoch 5/40\n",
            "\n",
            "Epoch 00005: LearningRateScheduler setting learning rate to 0.0013181019.\n",
            "60000/60000 [==============================] - 5s 91us/step - loss: 0.0212 - acc: 0.9934 - val_loss: 0.0295 - val_acc: 0.9914\n",
            "\n",
            "Epoch 00005: val_acc did not improve from 0.99390\n",
            "Epoch 6/40\n",
            "\n",
            "Epoch 00006: LearningRateScheduler setting learning rate to 0.0011560694.\n",
            "60000/60000 [==============================] - 6s 93us/step - loss: 0.0177 - acc: 0.9947 - val_loss: 0.0352 - val_acc: 0.9909\n",
            "\n",
            "Epoch 00006: val_acc did not improve from 0.99390\n",
            "Epoch 7/40\n",
            "\n",
            "Epoch 00007: LearningRateScheduler setting learning rate to 0.0010295127.\n",
            "60000/60000 [==============================] - 5s 91us/step - loss: 0.0151 - acc: 0.9954 - val_loss: 0.0293 - val_acc: 0.9930\n",
            "\n",
            "Epoch 00007: val_acc did not improve from 0.99390\n",
            "Epoch 8/40\n",
            "\n",
            "Epoch 00008: LearningRateScheduler setting learning rate to 0.0009279307.\n",
            "60000/60000 [==============================] - 5s 91us/step - loss: 0.0142 - acc: 0.9951 - val_loss: 0.0310 - val_acc: 0.9916\n",
            "\n",
            "Epoch 00008: val_acc did not improve from 0.99390\n",
            "Epoch 9/40\n",
            "\n",
            "Epoch 00009: LearningRateScheduler setting learning rate to 0.0008445946.\n",
            "60000/60000 [==============================] - 5s 90us/step - loss: 0.0119 - acc: 0.9964 - val_loss: 0.0267 - val_acc: 0.9934\n",
            "\n",
            "Epoch 00009: val_acc did not improve from 0.99390\n",
            "Epoch 10/40\n",
            "\n",
            "Epoch 00010: LearningRateScheduler setting learning rate to 0.0007749935.\n",
            "60000/60000 [==============================] - 5s 90us/step - loss: 0.0103 - acc: 0.9970 - val_loss: 0.0277 - val_acc: 0.9925\n",
            "\n",
            "Epoch 00010: val_acc did not improve from 0.99390\n",
            "Epoch 11/40\n",
            "\n",
            "Epoch 00011: LearningRateScheduler setting learning rate to 0.0007159905.\n",
            "60000/60000 [==============================] - 5s 89us/step - loss: 0.0098 - acc: 0.9971 - val_loss: 0.0296 - val_acc: 0.9926\n",
            "\n",
            "Epoch 00011: val_acc did not improve from 0.99390\n",
            "Epoch 12/40\n",
            "\n",
            "Epoch 00012: LearningRateScheduler setting learning rate to 0.000665336.\n",
            "60000/60000 [==============================] - 5s 88us/step - loss: 0.0090 - acc: 0.9972 - val_loss: 0.0340 - val_acc: 0.9909\n",
            "\n",
            "Epoch 00012: val_acc did not improve from 0.99390\n",
            "Epoch 13/40\n",
            "\n",
            "Epoch 00013: LearningRateScheduler setting learning rate to 0.0006213753.\n",
            "60000/60000 [==============================] - 5s 89us/step - loss: 0.0078 - acc: 0.9975 - val_loss: 0.0314 - val_acc: 0.9929\n",
            "\n",
            "Epoch 00013: val_acc did not improve from 0.99390\n",
            "Epoch 14/40\n",
            "\n",
            "Epoch 00014: LearningRateScheduler setting learning rate to 0.0005828638.\n",
            "60000/60000 [==============================] - 5s 89us/step - loss: 0.0083 - acc: 0.9976 - val_loss: 0.0268 - val_acc: 0.9939\n",
            "\n",
            "Epoch 00014: val_acc did not improve from 0.99390\n",
            "Epoch 15/40\n",
            "\n",
            "Epoch 00015: LearningRateScheduler setting learning rate to 0.0005488474.\n",
            "60000/60000 [==============================] - 5s 89us/step - loss: 0.0077 - acc: 0.9979 - val_loss: 0.0274 - val_acc: 0.9934\n",
            "\n",
            "Epoch 00015: val_acc did not improve from 0.99390\n",
            "Epoch 16/40\n",
            "\n",
            "Epoch 00016: LearningRateScheduler setting learning rate to 0.0005185825.\n",
            "60000/60000 [==============================] - 5s 89us/step - loss: 0.0069 - acc: 0.9977 - val_loss: 0.0313 - val_acc: 0.9932\n",
            "\n",
            "Epoch 00016: val_acc did not improve from 0.99390\n",
            "Epoch 17/40\n",
            "\n",
            "Epoch 00017: LearningRateScheduler setting learning rate to 0.000491481.\n",
            "60000/60000 [==============================] - 5s 90us/step - loss: 0.0054 - acc: 0.9985 - val_loss: 0.0335 - val_acc: 0.9927\n",
            "\n",
            "Epoch 00017: val_acc did not improve from 0.99390\n",
            "Epoch 18/40\n",
            "\n",
            "Epoch 00018: LearningRateScheduler setting learning rate to 0.0004670715.\n",
            "60000/60000 [==============================] - 5s 90us/step - loss: 0.0059 - acc: 0.9982 - val_loss: 0.0317 - val_acc: 0.9925\n",
            "\n",
            "Epoch 00018: val_acc did not improve from 0.99390\n",
            "Epoch 19/40\n",
            "\n",
            "Epoch 00019: LearningRateScheduler setting learning rate to 0.0004449718.\n",
            "60000/60000 [==============================] - 5s 90us/step - loss: 0.0060 - acc: 0.9981 - val_loss: 0.0340 - val_acc: 0.9930\n",
            "\n",
            "Epoch 00019: val_acc did not improve from 0.99390\n",
            "Epoch 20/40\n",
            "\n",
            "Epoch 00020: LearningRateScheduler setting learning rate to 0.000424869.\n",
            "60000/60000 [==============================] - 5s 88us/step - loss: 0.0053 - acc: 0.9986 - val_loss: 0.0305 - val_acc: 0.9937\n",
            "\n",
            "Epoch 00020: val_acc did not improve from 0.99390\n",
            "Epoch 21/40\n",
            "\n",
            "Epoch 00021: LearningRateScheduler setting learning rate to 0.0004065041.\n",
            "60000/60000 [==============================] - 5s 89us/step - loss: 0.0047 - acc: 0.9987 - val_loss: 0.0318 - val_acc: 0.9931\n",
            "\n",
            "Epoch 00021: val_acc did not improve from 0.99390\n",
            "Epoch 22/40\n",
            "\n",
            "Epoch 00022: LearningRateScheduler setting learning rate to 0.000389661.\n",
            "60000/60000 [==============================] - 5s 88us/step - loss: 0.0040 - acc: 0.9989 - val_loss: 0.0296 - val_acc: 0.9940\n",
            "\n",
            "Epoch 00022: val_acc improved from 0.99390 to 0.99400, saving model to ./drive/My Drive/MNIST is my bitch/model1.hdf5\n",
            "Epoch 23/40\n",
            "\n",
            "Epoch 00023: LearningRateScheduler setting learning rate to 0.0003741581.\n",
            "60000/60000 [==============================] - 5s 89us/step - loss: 0.0046 - acc: 0.9986 - val_loss: 0.0323 - val_acc: 0.9940\n",
            "\n",
            "Epoch 00023: val_acc improved from 0.99400 to 0.99400, saving model to ./drive/My Drive/MNIST is my bitch/model1.hdf5\n",
            "Epoch 24/40\n",
            "\n",
            "Epoch 00024: LearningRateScheduler setting learning rate to 0.0003598417.\n",
            "60000/60000 [==============================] - 5s 89us/step - loss: 0.0044 - acc: 0.9986 - val_loss: 0.0348 - val_acc: 0.9929\n",
            "\n",
            "Epoch 00024: val_acc did not improve from 0.99400\n",
            "Epoch 25/40\n",
            "\n",
            "Epoch 00025: LearningRateScheduler setting learning rate to 0.0003465804.\n",
            "60000/60000 [==============================] - 5s 89us/step - loss: 0.0036 - acc: 0.9990 - val_loss: 0.0376 - val_acc: 0.9918\n",
            "\n",
            "Epoch 00025: val_acc did not improve from 0.99400\n",
            "Epoch 26/40\n",
            "\n",
            "Epoch 00026: LearningRateScheduler setting learning rate to 0.0003342618.\n",
            "60000/60000 [==============================] - 5s 87us/step - loss: 0.0042 - acc: 0.9987 - val_loss: 0.0366 - val_acc: 0.9931\n",
            "\n",
            "Epoch 00026: val_acc did not improve from 0.99400\n",
            "Epoch 27/40\n",
            "\n",
            "Epoch 00027: LearningRateScheduler setting learning rate to 0.0003227889.\n",
            "60000/60000 [==============================] - 5s 88us/step - loss: 0.0036 - acc: 0.9991 - val_loss: 0.0382 - val_acc: 0.9933\n",
            "\n",
            "Epoch 00027: val_acc did not improve from 0.99400\n",
            "Epoch 28/40\n",
            "\n",
            "Epoch 00028: LearningRateScheduler setting learning rate to 0.0003120774.\n",
            "60000/60000 [==============================] - 5s 88us/step - loss: 0.0036 - acc: 0.9991 - val_loss: 0.0410 - val_acc: 0.9921\n",
            "\n",
            "Epoch 00028: val_acc did not improve from 0.99400\n",
            "Epoch 29/40\n",
            "\n",
            "Epoch 00029: LearningRateScheduler setting learning rate to 0.000302054.\n",
            "60000/60000 [==============================] - 5s 88us/step - loss: 0.0041 - acc: 0.9988 - val_loss: 0.0384 - val_acc: 0.9938\n",
            "\n",
            "Epoch 00029: val_acc did not improve from 0.99400\n",
            "Epoch 30/40\n",
            "\n",
            "Epoch 00030: LearningRateScheduler setting learning rate to 0.0002926544.\n",
            "60000/60000 [==============================] - 5s 88us/step - loss: 0.0030 - acc: 0.9991 - val_loss: 0.0377 - val_acc: 0.9927\n",
            "\n",
            "Epoch 00030: val_acc did not improve from 0.99400\n",
            "Epoch 31/40\n",
            "\n",
            "Epoch 00031: LearningRateScheduler setting learning rate to 0.0002838221.\n",
            "60000/60000 [==============================] - 5s 88us/step - loss: 0.0035 - acc: 0.9990 - val_loss: 0.0373 - val_acc: 0.9927\n",
            "\n",
            "Epoch 00031: val_acc did not improve from 0.99400\n",
            "Epoch 32/40\n",
            "\n",
            "Epoch 00032: LearningRateScheduler setting learning rate to 0.0002755074.\n",
            "60000/60000 [==============================] - 5s 89us/step - loss: 0.0033 - acc: 0.9991 - val_loss: 0.0435 - val_acc: 0.9929\n",
            "\n",
            "Epoch 00032: val_acc did not improve from 0.99400\n",
            "Epoch 33/40\n",
            "\n",
            "Epoch 00033: LearningRateScheduler setting learning rate to 0.000267666.\n",
            "60000/60000 [==============================] - 5s 90us/step - loss: 0.0034 - acc: 0.9989 - val_loss: 0.0359 - val_acc: 0.9933\n",
            "\n",
            "Epoch 00033: val_acc did not improve from 0.99400\n",
            "Epoch 34/40\n",
            "\n",
            "Epoch 00034: LearningRateScheduler setting learning rate to 0.0002602585.\n",
            "60000/60000 [==============================] - 5s 89us/step - loss: 0.0029 - acc: 0.9993 - val_loss: 0.0354 - val_acc: 0.9934\n",
            "\n",
            "Epoch 00034: val_acc did not improve from 0.99400\n",
            "Epoch 35/40\n",
            "\n",
            "Epoch 00035: LearningRateScheduler setting learning rate to 0.00025325.\n",
            "60000/60000 [==============================] - 5s 89us/step - loss: 0.0027 - acc: 0.9993 - val_loss: 0.0395 - val_acc: 0.9914\n",
            "\n",
            "Epoch 00035: val_acc did not improve from 0.99400\n",
            "Epoch 36/40\n",
            "\n",
            "Epoch 00036: LearningRateScheduler setting learning rate to 0.0002466091.\n",
            "60000/60000 [==============================] - 5s 88us/step - loss: 0.0028 - acc: 0.9993 - val_loss: 0.0357 - val_acc: 0.9935\n",
            "\n",
            "Epoch 00036: val_acc did not improve from 0.99400\n",
            "Epoch 37/40\n",
            "\n",
            "Epoch 00037: LearningRateScheduler setting learning rate to 0.0002403076.\n",
            "60000/60000 [==============================] - 5s 88us/step - loss: 0.0023 - acc: 0.9994 - val_loss: 0.0355 - val_acc: 0.9933\n",
            "\n",
            "Epoch 00037: val_acc did not improve from 0.99400\n",
            "Epoch 38/40\n",
            "\n",
            "Epoch 00038: LearningRateScheduler setting learning rate to 0.0002343201.\n",
            "60000/60000 [==============================] - 5s 89us/step - loss: 0.0028 - acc: 0.9992 - val_loss: 0.0384 - val_acc: 0.9932\n",
            "\n",
            "Epoch 00038: val_acc did not improve from 0.99400\n",
            "Epoch 39/40\n",
            "\n",
            "Epoch 00039: LearningRateScheduler setting learning rate to 0.0002286237.\n",
            "60000/60000 [==============================] - 5s 89us/step - loss: 0.0025 - acc: 0.9993 - val_loss: 0.0372 - val_acc: 0.9931\n",
            "\n",
            "Epoch 00039: val_acc did not improve from 0.99400\n",
            "Epoch 40/40\n",
            "\n",
            "Epoch 00040: LearningRateScheduler setting learning rate to 0.0002231977.\n",
            "60000/60000 [==============================] - 5s 88us/step - loss: 0.0026 - acc: 0.9993 - val_loss: 0.0383 - val_acc: 0.9934\n",
            "\n",
            "Epoch 00040: val_acc did not improve from 0.99400\n"
          ],
          "name": "stdout"
        },
        {
          "output_type": "execute_result",
          "data": {
            "text/plain": [
              "<keras.callbacks.History at 0x7fecd0aa20f0>"
            ]
          },
          "metadata": {
            "tags": []
          },
          "execution_count": 96
        }
      ]
    },
    {
      "cell_type": "code",
      "metadata": {
        "id": "AtsH-lLk-eLb",
        "colab_type": "code",
        "colab": {}
      },
      "source": [
        "score = model.evaluate(X_test, Y_test, verbose=0)"
      ],
      "execution_count": 0,
      "outputs": []
    },
    {
      "cell_type": "code",
      "metadata": {
        "id": "UAHKYNFVU3vd",
        "colab_type": "code",
        "outputId": "ad24a1ba-c6c1-417b-a6af-1369766bf5ff",
        "colab": {
          "base_uri": "https://localhost:8080/",
          "height": 319
        }
      },
      "source": [
        "\n",
        "image_index = 6555\n",
        "plt.imshow(X_test[image_index].reshape(28, 28),cmap='Greys')\n",
        "pred = model.predict(X_test[image_index].reshape(1, 28, 28, 1))\n",
        "print(pred.argmax())\n",
        "print(Y_test[6555])\n",
        "print(y_test[6555])\n"
      ],
      "execution_count": 98,
      "outputs": [
        {
          "output_type": "stream",
          "text": [
            "8\n",
            "[0. 0. 0. 0. 0. 0. 0. 0. 1. 0.]\n",
            "8\n"
          ],
          "name": "stdout"
        },
        {
          "output_type": "display_data",
          "data": {
            "image/png": "[encoded data removed]",
            "text/plain": [
              "<Figure size 432x288 with 1 Axes>"
            ]
          },
          "metadata": {
            "tags": []
          }
        }
      ]
    },
    {
      "cell_type": "code",
      "metadata": {
        "id": "mkX8JMv79q9r",
        "colab_type": "code",
        "outputId": "c6bd2c62-bd7d-4e58-c73c-86d6e0ffd470",
        "colab": {
          "base_uri": "https://localhost:8080/",
          "height": 34
        }
      },
      "source": [
        "print(score)"
      ],
      "execution_count": 99,
      "outputs": [
        {
          "output_type": "stream",
          "text": [
            "[0.03825793648851104, 0.9934]\n"
          ],
          "name": "stdout"
        }
      ]
    },
    {
      "cell_type": "code",
      "metadata": {
        "id": "OCWoJkwE9suh",
        "colab_type": "code",
        "colab": {}
      },
      "source": [
        "y_pred = model.predict(X_test)"
      ],
      "execution_count": 0,
      "outputs": []
    },
    {
      "cell_type": "code",
      "metadata": {
        "id": "WdAXyELgXVd1",
        "colab_type": "code",
        "outputId": "b47a608f-adef-4683-987e-9e54a64789e1",
        "colab": {
          "base_uri": "https://localhost:8080/",
          "height": 34
        }
      },
      "source": [
        "numberofincorrect = 0\n",
        "incorrectpos = []\n",
        "for i in range(0,10000):\n",
        "    if(y_pred[i].argmax() != y_test[i] ):\n",
        "#         print(\"POS \",i)\n",
        "#         print(\"Y_pred \",y_pred[i].argmax())\n",
        "#         print(\"Y_test \",y_test[i])\n",
        "#         print(\" f u \")\n",
        "        numberofincorrect = numberofincorrect + 1 \n",
        "        incorrectpos.append(i)\n",
        "        \n",
        "print(\"numberofincorrect \",numberofincorrect)\n"
      ],
      "execution_count": 101,
      "outputs": [
        {
          "output_type": "stream",
          "text": [
            "numberofincorrect  66\n"
          ],
          "name": "stdout"
        }
      ]
    },
    {
      "cell_type": "code",
      "metadata": {
        "id": "fUxLFzpHZvlQ",
        "colab_type": "code",
        "outputId": "1541b69b-09bc-478f-c839-9ab49ac0942b",
        "colab": {
          "base_uri": "https://localhost:8080/",
          "height": 663
        }
      },
      "source": [
        "#To print 25 incorrectly predicted images\n",
        "\n",
        "# for i in range (0,26):\n",
        "#   image_index = incorrectpos[i]\n",
        "#   plt.imshow(X_test[image_index].reshape(28, 28),cmap='Greys')\n",
        "  \n",
        "w=28\n",
        "h=28\n",
        "fig=plt.figure(figsize=(10, 10))\n",
        "columns = 5\n",
        "rows = 5\n",
        "for i in range(1, 26):\n",
        "    image_index = incorrectpos[i]\n",
        "    fig.add_subplot(rows, columns, i)\n",
        "    plt.imshow(X_test[image_index].reshape(28, 28),cmap='Greys')\n",
        "    plt.title(y_pred[image_index].argmax())\n",
        "    plt.subplots_adjust(hspace=1, wspace=1)\n",
        "    plt.suptitle(\"Predictions and output\")\n",
        "#     print(y_test[image_index])\n",
        "    \n",
        "    \n",
        "plt.show()\n",
        "#   pred = model.predict(X_test[image_index].reshape(1, 28, 28, 1))\n",
        "#   print(pred.argmax())\n",
        "#   print(Y_test[i])\n",
        "#   print(y_test[i])"
      ],
      "execution_count": 102,
      "outputs": [
        {
          "output_type": "display_data",
          "data": {
            "image/png": "[encoded data removed]",
            "text/plain": [
              "<Figure size 720x720 with 25 Axes>"
            ]
          },
          "metadata": {
            "tags": []
          }
        }
      ]
    },
    {
      "cell_type": "code",
      "metadata": {
        "id": "Ym7iCFBm9uBs",
        "colab_type": "code",
        "outputId": "608a222e-8497-4c5a-9417-43c4756f4522",
        "colab": {
          "base_uri": "https://localhost:8080/",
          "height": 487
        }
      },
      "source": [
        "print(y_pred[:9])\n",
        "print(y_test[:9])"
      ],
      "execution_count": 103,
      "outputs": [
        {
          "output_type": "stream",
          "text": [
            "[[3.10140732e-28 2.83933364e-19 6.20722261e-16 5.79766755e-19\n",
            "  3.54466405e-27 8.26038625e-26 1.75652804e-30 1.00000000e+00\n",
            "  4.28256764e-28 1.01557126e-19]\n",
            " [6.47911833e-21 2.54670196e-15 1.00000000e+00 1.18160438e-24\n",
            "  5.18497818e-18 5.82155929e-26 6.54254284e-16 7.80070155e-24\n",
            "  1.72901807e-23 6.38127767e-27]\n",
            " [6.12383728e-19 1.00000000e+00 1.61909554e-17 6.95598634e-21\n",
            "  6.00664470e-14 1.42997082e-16 6.01939475e-15 6.16729051e-15\n",
            "  3.57968803e-16 5.13957930e-21]\n",
            " [1.00000000e+00 1.76262992e-22 2.56061981e-17 3.38248649e-18\n",
            "  6.87091307e-20 1.14906476e-19 5.43757010e-12 2.49212636e-21\n",
            "  5.75642215e-16 1.55696289e-16]\n",
            " [2.00662472e-28 5.08217229e-25 1.25156817e-27 1.68920016e-35\n",
            "  1.00000000e+00 1.44777202e-37 5.33120789e-27 2.78520433e-25\n",
            "  2.86858249e-22 1.90648670e-18]\n",
            " [2.12096347e-20 1.00000000e+00 2.56024600e-19 1.79218292e-24\n",
            "  4.16198488e-13 8.75226316e-21 1.74230696e-15 1.23850246e-12\n",
            "  4.91143142e-20 3.41742368e-20]\n",
            " [1.70577653e-28 4.51735178e-17 6.76644369e-23 1.82744992e-28\n",
            "  1.00000000e+00 1.43520028e-24 2.26173053e-25 2.40761195e-15\n",
            "  1.46716424e-11 1.12310487e-14]\n",
            " [3.82517267e-20 1.11888383e-22 2.17221951e-22 6.89767010e-21\n",
            "  3.99873628e-08 1.15601504e-20 4.20979813e-25 5.26308284e-15\n",
            "  1.87590488e-19 1.00000000e+00]\n",
            " [8.04158446e-08 4.86571029e-17 2.45249390e-15 3.40630714e-12\n",
            "  9.90985832e-20 9.06849265e-01 9.31454450e-02 4.32449533e-19\n",
            "  5.23168183e-06 2.51343524e-09]]\n",
            "[7 2 1 0 4 1 4 9 5]\n"
          ],
          "name": "stdout"
        }
      ]
    },
    {
      "cell_type": "code",
      "metadata": {
        "id": "ppndjfQiuLLa",
        "colab_type": "code",
        "outputId": "73facb4b-efd7-4aa2-8d5b-68905f85d45a",
        "colab": {
          "base_uri": "https://localhost:8080/",
          "height": 34
        }
      },
      "source": [
        "print(y_pred[0,0])"
      ],
      "execution_count": 104,
      "outputs": [
        {
          "output_type": "stream",
          "text": [
            "3.1014073e-28\n"
          ],
          "name": "stdout"
        }
      ]
    },
    {
      "cell_type": "code",
      "metadata": {
        "id": "CT--y98_dr2T",
        "colab_type": "code",
        "colab": {}
      },
      "source": [
        "layer_dict = dict([(layer.name, layer) for layer in model.layers])"
      ],
      "execution_count": 0,
      "outputs": []
    },
    {
      "cell_type": "code",
      "metadata": {
        "id": "2GY4Upv4dsUR",
        "colab_type": "code",
        "outputId": "13651c87-939e-413a-f9e2-f3ee2ff504d9",
        "colab": {
          "base_uri": "https://localhost:8080/",
          "height": 741
        }
      },
      "source": [
        "import numpy as np\n",
        "from matplotlib import pyplot as plt\n",
        "from keras import backend as K\n",
        "%matplotlib inline\n",
        "# util function to convert a tensor into a valid image\n",
        "def deprocess_image(x):\n",
        "    # normalize tensor: center on 0., ensure std is 0.1\n",
        "    x -= x.mean()\n",
        "    x /= (x.std() + 1e-5)\n",
        "    x *= 0.1\n",
        "\n",
        "    # clip to [0, 1]\n",
        "    x += 0.5\n",
        "    x = np.clip(x, 0, 1)\n",
        "\n",
        "    # convert to RGB array\n",
        "    x *= 255\n",
        "    #x = x.transpose((1, 2, 0))\n",
        "    x = np.clip(x, 0, 255).astype('uint8')\n",
        "    return x\n",
        "\n",
        "def vis_img_in_filter(img = np.array(X_train[2]).reshape((1, 28, 28, 1)).astype(np.float64), \n",
        "                      layer_name = 'conv2d_17'):\n",
        "    layer_output = layer_dict[layer_name].output\n",
        "    img_ascs = list()\n",
        "    for filter_index in range(layer_output.shape[3]):\n",
        "        # build a loss function that maximizes the activation\n",
        "        # of the nth filter of the layer considered\n",
        "        loss = K.mean(layer_output[:, :, :, filter_index])\n",
        "\n",
        "        # compute the gradient of the input picture wrt this loss\n",
        "        grads = K.gradients(loss, model.input)[0]\n",
        "\n",
        "        # normalization trick: we normalize the gradient\n",
        "        grads /= (K.sqrt(K.mean(K.square(grads))) + 1e-5)\n",
        "\n",
        "        # this function returns the loss and grads given the input picture\n",
        "        iterate = K.function([model.input], [loss, grads])\n",
        "\n",
        "        # step size for gradient ascent\n",
        "        step = 5.\n",
        "\n",
        "        img_asc = np.array(img)\n",
        "        # run gradient ascent for 20 steps\n",
        "        for i in range(20):\n",
        "            loss_value, grads_value = iterate([img_asc])\n",
        "            img_asc += grads_value * step\n",
        "\n",
        "        img_asc = img_asc[0]\n",
        "        img_ascs.append(deprocess_image(img_asc).reshape((28, 28)))\n",
        "        \n",
        "    if layer_output.shape[3] >= 35:\n",
        "        plot_x, plot_y = 6, 6\n",
        "    elif layer_output.shape[3] >= 23:\n",
        "        plot_x, plot_y = 4, 6\n",
        "    elif layer_output.shape[3] >= 11:\n",
        "        plot_x, plot_y = 2, 6\n",
        "    else:\n",
        "        plot_x, plot_y = 1, 2\n",
        "    fig, ax = plt.subplots(plot_x, plot_y, figsize = (12, 12))\n",
        "    ax[0, 0].imshow(img.reshape((28, 28)), cmap = 'gray')\n",
        "    ax[0, 0].set_title('Input image')\n",
        "    fig.suptitle('Input image and %s filters' % (layer_name,))\n",
        "    fig.tight_layout(pad = 0.3, rect = [0, 0, 0.9, 0.9])\n",
        "    for (x, y) in [(i, j) for i in range(plot_x) for j in range(plot_y)]:\n",
        "        if x == 0 and y == 0:\n",
        "            continue\n",
        "        ax[x, y].imshow(img_ascs[x * plot_y + y - 1], cmap = 'gray')\n",
        "        ax[x, y].set_title('filter %d' % (x * plot_y + y - 1))\n",
        "\n",
        "vis_img_in_filter()"
      ],
      "execution_count": 107,
      "outputs": [
        {
          "output_type": "display_data",
          "data": {
            "image/png": "[encoded data removed]",
            "text/plain": [
              "<Figure size 864x864 with 12 Axes>"
            ]
          },
          "metadata": {
            "tags": []
          }
        }
      ]
    },
    {
      "cell_type": "code",
      "metadata": {
        "id": "9tvptcn8dxvp",
        "colab_type": "code",
        "colab": {}
      },
      "source": [
        ""
      ],
      "execution_count": 0,
      "outputs": []
    }
  ]
}