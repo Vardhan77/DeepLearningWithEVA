{
  "nbformat": 4,
  "nbformat_minor": 0,
  "metadata": {
    "colab": {
      "name": "Project7B.ipynb",
      "provenance": [],
      "collapsed_sections": [],
      "include_colab_link": true
    },
    "kernelspec": {
      "name": "python3",
      "display_name": "Python 3"
    },
    "accelerator": "GPU"
  },
  "cells": [
    {
      "cell_type": "markdown",
      "metadata": {
        "id": "view-in-github",
        "colab_type": "text"
      },
      "source": [
        "<a href=\"https://colab.research.google.com/github/Vardhan77/DeepLearningWithEVA/blob/master/Project7/Project7B.ipynb\" target=\"_parent\"><img src=\"https://colab.research.google.com/assets/colab-badge.svg\" alt=\"Open In Colab\"/></a>"
      ]
    },
    {
      "cell_type": "code",
      "metadata": {
        "id": "y4-mEEwEwKiu",
        "colab_type": "code",
        "colab": {
          "base_uri": "https://localhost:8080/",
          "height": 302
        },
        "outputId": "fd6bfaa3-3332-4f78-85b1-72b62d8f773d"
      },
      "source": [
        "!nvidia-smi"
      ],
      "execution_count": 1,
      "outputs": [
        {
          "output_type": "stream",
          "text": [
            "Sun Dec 15 18:10:20 2019       \n",
            "+-----------------------------------------------------------------------------+\n",
            "| NVIDIA-SMI 440.44       Driver Version: 418.67       CUDA Version: 10.1     |\n",
            "|-------------------------------+----------------------+----------------------+\n",
            "| GPU  Name        Persistence-M| Bus-Id        Disp.A | Volatile Uncorr. ECC |\n",
            "| Fan  Temp  Perf  Pwr:Usage/Cap|         Memory-Usage | GPU-Util  Compute M. |\n",
            "|===============================+======================+======================|\n",
            "|   0  Tesla K80           Off  | 00000000:00:04.0 Off |                    0 |\n",
            "| N/A   31C    P8    28W / 149W |      0MiB / 11441MiB |      0%      Default |\n",
            "+-------------------------------+----------------------+----------------------+\n",
            "                                                                               \n",
            "+-----------------------------------------------------------------------------+\n",
            "| Processes:                                                       GPU Memory |\n",
            "|  GPU       PID   Type   Process name                             Usage      |\n",
            "|=============================================================================|\n",
            "|  No running processes found                                                 |\n",
            "+-----------------------------------------------------------------------------+\n"
          ],
          "name": "stdout"
        }
      ]
    },
    {
      "cell_type": "code",
      "metadata": {
        "id": "nTpWU1As6VB2",
        "colab_type": "code",
        "outputId": "d5bb7e40-3769-4303-e611-dea8409ea9d0",
        "colab": {
          "base_uri": "https://localhost:8080/",
          "height": 67
        }
      },
      "source": [
        "!pip install --upgrade --upgrade-strategy only-if-needed https://github.com/faizanahemad/data-science-utils/tarball/master > /dev/null\n",
        "!pip install git+https://www.github.com/keras-team/keras-contrib.git > /dev/null\n",
        "!pip install keract > /dev/null\n"
      ],
      "execution_count": 2,
      "outputs": [
        {
          "output_type": "stream",
          "text": [
            "  Running command git clone -q https://www.github.com/keras-team/keras-contrib.git /tmp/pip-req-build-2z_8mfk9\n",
            "\u001b[31mERROR: datascience 0.10.6 has requirement folium==0.2.1, but you'll have folium 0.8.3 which is incompatible.\u001b[0m\n",
            "\u001b[31mERROR: albumentations 0.1.12 has requirement imgaug<0.2.7,>=0.2.5, but you'll have imgaug 0.2.9 which is incompatible.\u001b[0m\n"
          ],
          "name": "stdout"
        }
      ]
    },
    {
      "cell_type": "code",
      "metadata": {
        "id": "OwuQYGjw6W2m",
        "colab_type": "code",
        "colab": {
          "base_uri": "https://localhost:8080/",
          "height": 79
        },
        "outputId": "083fd23d-9789-4235-9b95-42da319ea2d4"
      },
      "source": [
        "from keras import backend as K\n",
        "import time\n",
        "import matplotlib.pyplot as plt\n",
        "import numpy as np\n",
        "% matplotlib inline\n",
        "np.random.seed(2017) \n",
        "from keras.models import Sequential\n",
        "from keras.layers.convolutional import Convolution2D, MaxPooling2D, DepthwiseConv2D, Conv2D, SeparableConv2D\n",
        "from keras.layers import Input, concatenate\n",
        "from keras.layers import Activation, Flatten, Dense, Dropout, Lambda\n",
        "from keras.layers.normalization import BatchNormalization\n",
        "from keras.layers.pooling import GlobalAveragePooling2D\n",
        "from keras.utils import np_utils\n",
        "from keras.preprocessing.image import ImageDataGenerator\n",
        "from keras.optimizers import SGD, Nadam, Adam\n",
        "from keras.preprocessing.image import ImageDataGenerator\n",
        "from keras.callbacks import EarlyStopping, ModelCheckpoint, ReduceLROnPlateau, LearningRateScheduler\n",
        "from keras.regularizers import l2\n",
        "%config InlineBackend.figure_format='retina'\n",
        "from keras_contrib.callbacks import CyclicLR\n",
        "from keras.models import Model\n",
        "import tensorflow as tf\n",
        "from data_science_utils.vision.keras import *"
      ],
      "execution_count": 3,
      "outputs": [
        {
          "output_type": "stream",
          "text": [
            "Using TensorFlow backend.\n"
          ],
          "name": "stderr"
        },
        {
          "output_type": "display_data",
          "data": {
            "text/html": [
              "<p style=\"color: red;\">\n",
              "The default version of TensorFlow in Colab will soon switch to TensorFlow 2.x.<br>\n",
              "We recommend you <a href=\"https://www.tensorflow.org/guide/migrate\" target=\"_blank\">upgrade</a> now \n",
              "or ensure your notebook will continue to use TensorFlow 1.x via the <code>%tensorflow_version 1.x</code> magic:\n",
              "<a href=\"https://colab.research.google.com/notebooks/tensorflow_version.ipynb\" target=\"_blank\">more info</a>.</p>\n"
            ],
            "text/plain": [
              "<IPython.core.display.HTML object>"
            ]
          },
          "metadata": {
            "tags": []
          }
        }
      ]
    },
    {
      "cell_type": "code",
      "metadata": {
        "id": "XYGtotFx6cEc",
        "colab_type": "code",
        "outputId": "29c07334-d580-4b3e-f719-8188e9295e7e",
        "colab": {
          "base_uri": "https://localhost:8080/",
          "height": 180
        }
      },
      "source": [
        "\n",
        "X_train, Y_train, X_test, Y_test = get_cifar10_data()\n",
        "classes = get_cifar10_labels()\n",
        "show_examples(X_train[10:15], Y_train[10:15], classes)"
      ],
      "execution_count": 4,
      "outputs": [
        {
          "output_type": "stream",
          "text": [
            "Downloading data from https://www.cs.toronto.edu/~kriz/cifar-10-python.tar.gz\n",
            "170500096/170498071 [==============================] - 2s 0us/step\n"
          ],
          "name": "stdout"
        },
        {
          "output_type": "display_data",
          "data": {
            "image/png": "[encoded data removed]",
            "text/plain": [
              "<Figure size 720x144 with 5 Axes>"
            ]
          },
          "metadata": {
            "tags": [],
            "image/png": {
              "width": 575,
              "height": 129
            }
          }
        }
      ]
    },
    {
      "cell_type": "code",
      "metadata": {
        "id": "WE_sJxJV6fq5",
        "colab_type": "code",
        "colab": {}
      },
      "source": [
        "def s2d_2(x):\n",
        "  return tf.space_to_depth(x, block_size=2)\n",
        "\n",
        "def s2d_4(x):\n",
        "  return tf.space_to_depth(x, block_size=4)\n",
        "\n",
        "def concat_s2d(inputs):\n",
        "  final_inputs = None\n",
        "  if type(inputs)==list:\n",
        "    modified_inputs = []\n",
        "    mh,mw = 1e8,1e8 # min height and width\n",
        "    \n",
        "    for inpt in inputs:\n",
        "      s = K.int_shape(inpt)\n",
        "      h,w = s[-3],s[-2]\n",
        "      mh = min(mh,h)\n",
        "      mw = min(mw,w)\n",
        "      modified_inputs.append((inpt,h,w))\n",
        "    final_inputs = []\n",
        "    for inpt,h,w in modified_inputs:\n",
        "      assert h%mh==0 and w%mw==0 and h/mh == w/mw\n",
        "      if int(h/mh)>1:\n",
        "        inp = Lambda(lambda x: tf.space_to_depth(x, block_size=int(h/mh)))(inpt)\n",
        "      else:\n",
        "        inp = inpt\n",
        "      final_inputs.append(inp) \n",
        "  inputs = concatenate(final_inputs) if type(inputs)==list and len(inputs)>1 else inputs\n",
        "  inputs = inputs[0] if type(inputs)==list and len(inputs)==1 else inputs\n",
        "  return inputs\n",
        "\n",
        "def transition_layer(inputs, n_kernels=32):\n",
        "  out = Conv2D(n_kernels,\n",
        "                kernel_size=(1,1),\n",
        "                strides=1,\n",
        "                padding='same',\n",
        "                kernel_regularizer=l2(1e-4),\n",
        "                dilation_rate=1)(inputs)\n",
        "  out = BatchNormalization()(out)\n",
        "  out = Activation(\"relu\")(out)\n",
        "  return out\n",
        "  \n",
        "\n",
        "def conv_layer(inputs, n_kernels=32, kernel_size=(3,3), dropout=0.15,dilation_rate=1, padding='same', \n",
        "               enable_transition = True,transition_layer_kernels = 32):\n",
        "  inputs = concat_s2d(inputs)\n",
        "  inputs = transition_layer(inputs, transition_layer_kernels) if enable_transition else inputs\n",
        "  out = Conv2D(n_kernels,\n",
        "                kernel_size=kernel_size,\n",
        "                strides=1,\n",
        "                padding=padding,\n",
        "                kernel_regularizer=l2(2e-4),\n",
        "                dilation_rate=dilation_rate)(inputs)\n",
        "  out = BatchNormalization()(out)\n",
        "  out = Activation(\"relu\")(out)\n",
        "  out = Dropout(dropout)(out) if dropout>0 else out\n",
        "  return out\n",
        "\n",
        "def depthwise_conv_layer(inputs, n_kernels=32, kernel_size=(3,3),dropout=0.15,dilation_rate=1, padding='same', depth_multiplier=1,\n",
        "                         enable_transition = False,transition_layer_kernels = 32):\n",
        "  inputs = concat_s2d(inputs)\n",
        "  inputs = transition_layer(inputs, transition_layer_kernels) if enable_transition else inputs\n",
        "  out = SeparableConv2D(n_kernels,\n",
        "                kernel_size=kernel_size,\n",
        "                strides=1,\n",
        "                padding=padding,\n",
        "                kernel_regularizer=l2(2e-4),\n",
        "                dilation_rate=dilation_rate,\n",
        "                depth_multiplier=depth_multiplier,)(inputs)\n",
        "  out = BatchNormalization()(out)\n",
        "  out = Activation(\"relu\")(out)\n",
        "  out = Dropout(dropout)(out) if dropout>0 else out\n",
        "  return out\n",
        "\n",
        "\n",
        "\n",
        "def output_layer(inputs, n_classes):\n",
        "  inputs = concat_s2d(inputs)\n",
        "  out = transition_layer(inputs, n_classes)\n",
        "  out = GlobalAveragePooling2D()(out)\n",
        "  out = Activation(\"softmax\")(out)\n",
        "  return out\n",
        "\n",
        "\n",
        "\n"
      ],
      "execution_count": 0,
      "outputs": []
    },
    {
      "cell_type": "markdown",
      "metadata": {
        "id": "1MOz73rda8GQ",
        "colab_type": "text"
      },
      "source": [
        "# Model Definition"
      ]
    },
    {
      "cell_type": "markdown",
      "metadata": {
        "id": "xdGgP2cfbDtt",
        "colab_type": "text"
      },
      "source": [
        "## Block 1"
      ]
    },
    {
      "cell_type": "code",
      "metadata": {
        "id": "ogmOrT816xZD",
        "colab_type": "code",
        "outputId": "14af0fe2-ee0f-482c-cd5a-a97fb0eee000",
        "colab": {
          "base_uri": "https://localhost:8080/",
          "height": 121
        }
      },
      "source": [
        "inputs = Input(shape=(32,32,3))\n",
        "layer_1 = depthwise_conv_layer([inputs], n_kernels=16,kernel_size=(5,5))\n",
        "layer_2 = conv_layer([layer_1],n_kernels=32,kernel_size=(5,5))\n",
        "layer_3 = conv_layer([layer_2],n_kernels=64,kernel_size=(5,5))\n",
        "layer_4 = depthwise_conv_layer([layer_3,layer_1], n_kernels=32,kernel_size=(5,5), enable_transition = True,transition_layer_kernels = 16) \n",
        "\n",
        "layer_5 = MaxPooling2D()(concatenate([layer_1,layer_4])) # 16\n",
        "\n",
        "\n",
        "\n",
        "\n"
      ],
      "execution_count": 6,
      "outputs": [
        {
          "output_type": "stream",
          "text": [
            "WARNING:tensorflow:From /usr/local/lib/python3.6/dist-packages/tensorflow_core/python/ops/resource_variable_ops.py:1630: calling BaseResourceVariable.__init__ (from tensorflow.python.ops.resource_variable_ops) with constraint is deprecated and will be removed in a future version.\n",
            "Instructions for updating:\n",
            "If using Keras pass *_constraint arguments to layers.\n",
            "WARNING:tensorflow:From /usr/local/lib/python3.6/dist-packages/keras/backend/tensorflow_backend.py:4070: The name tf.nn.max_pool is deprecated. Please use tf.nn.max_pool2d instead.\n",
            "\n"
          ],
          "name": "stdout"
        }
      ]
    },
    {
      "cell_type": "markdown",
      "metadata": {
        "id": "W5m8vJJ8bFnL",
        "colab_type": "text"
      },
      "source": [
        "## Block 2"
      ]
    },
    {
      "cell_type": "code",
      "metadata": {
        "id": "D-OZyd5HLI5_",
        "colab_type": "code",
        "colab": {}
      },
      "source": [
        "\n",
        "layer_6 = depthwise_conv_layer([layer_5], \n",
        "                                            n_kernels=32,kernel_size=(3,3),enable_transition = True,transition_layer_kernels = 32) \n",
        "\n",
        "# \n",
        "\n",
        "layer_7 = conv_layer([layer_4,layer_1,layer_6],\n",
        "                                  n_kernels=32,kernel_size=(5,5),enable_transition = True,transition_layer_kernels = 32)\n",
        "\n",
        "#\n",
        "\n",
        "layer_8 = depthwise_conv_layer([layer_7,layer_6,layer_4,layer_3], \n",
        "                                            n_kernels=64,kernel_size=(3,3),enable_transition = True,transition_layer_kernels = 32) \n",
        "\n",
        "#\n",
        "\n",
        "layer_9 = depthwise_conv_layer([layer_8,layer_7,layer_3, layer_4,layer_6, layer_1], \n",
        "                                            n_kernels=64,kernel_size=(5,5), enable_transition = True,transition_layer_kernels = 32) \n",
        "\n",
        "#\n",
        "\n",
        "layer_10 = MaxPooling2D()(concat_s2d([layer_9,layer_8,layer_6,layer_1,layer_4])) # 8\n",
        "\n",
        "\n",
        "\n"
      ],
      "execution_count": 0,
      "outputs": []
    },
    {
      "cell_type": "markdown",
      "metadata": {
        "id": "6iqCveWIbHBJ",
        "colab_type": "text"
      },
      "source": [
        "## Block 3"
      ]
    },
    {
      "cell_type": "code",
      "metadata": {
        "id": "4cw_WDPlLK5-",
        "colab_type": "code",
        "colab": {}
      },
      "source": [
        "layer_11 = conv_layer([layer_10,layer_7],\n",
        "                          n_kernels=32,kernel_size=(5,5),enable_transition = True,transition_layer_kernels = 32)\n",
        "#\n",
        "\n",
        "layer_12 = depthwise_conv_layer([layer_11,layer_2,layer_8,layer_4], \n",
        "                                    n_kernels=32,kernel_size=(5,5),enable_transition = True,transition_layer_kernels = 32) \n",
        "#\n",
        "\n",
        "layer_13 = conv_layer([layer_2,layer_3,layer_11,layer_12,layer_6],\n",
        "                          n_kernels=64,kernel_size=(3,3),enable_transition = True,transition_layer_kernels = 32)\n",
        "#\n",
        "\n",
        "layer_14 = depthwise_conv_layer([layer_8,layer_3,layer_13,layer_12,layer_4,layer_6,layer_1],\n",
        "                                    n_kernels=64,kernel_size=(5,5),enable_transition = True,transition_layer_kernels = 32)\n",
        "#\n",
        "\n",
        "output = output_layer([layer_14,layer_8,layer_12,layer_4],\n",
        "                      10)\n"
      ],
      "execution_count": 0,
      "outputs": []
    },
    {
      "cell_type": "code",
      "metadata": {
        "id": "qWP1nv12LNEW",
        "colab_type": "code",
        "outputId": "121ebdba-3f36-4bde-c794-32ab0ccc601e",
        "colab": {
          "base_uri": "https://localhost:8080/",
          "height": 34
        }
      },
      "source": [
        "\n",
        "model = Model(inputs=inputs, outputs=output)\n",
        "\n",
        "optimizer = Adam(lr=0.001,)\n",
        "\n",
        "\n",
        "model.compile(loss='categorical_crossentropy',\n",
        "             optimizer=optimizer,\n",
        "             metrics=['accuracy'])\n",
        "model.count_params()"
      ],
      "execution_count": 9,
      "outputs": [
        {
          "output_type": "execute_result",
          "data": {
            "text/plain": [
              "401277"
            ]
          },
          "metadata": {
            "tags": []
          },
          "execution_count": 9
        }
      ]
    },
    {
      "cell_type": "markdown",
      "metadata": {
        "id": "i9wPIx17LN-p",
        "colab_type": "text"
      },
      "source": [
        "# Training"
      ]
    },
    {
      "cell_type": "code",
      "metadata": {
        "id": "T9S72WswxBQe",
        "colab_type": "code",
        "colab": {}
      },
      "source": [
        ""
      ],
      "execution_count": 0,
      "outputs": []
    },
    {
      "cell_type": "code",
      "metadata": {
        "id": "3m-9tMbeFkNk",
        "colab_type": "code",
        "outputId": "c97d5c1a-d6b2-4a24-8e6c-bd554d95588f",
        "colab": {
          "base_uri": "https://localhost:8080/",
          "height": 3607
        }
      },
      "source": [
        "X_train, Y_train, X_test, Y_test = get_cifar10_data(preprocess=False)\n",
        "datagen = ImageDataGenerator(featurewise_center=True,featurewise_std_normalization=True,\n",
        "                             rotation_range=10,\n",
        "                             height_shift_range=0.1,width_shift_range=0.1,zoom_range=0.1,horizontal_flip=False)\n",
        "\n",
        "datagen_validation = ImageDataGenerator(featurewise_center=True,featurewise_std_normalization=True,)\n",
        "datagen.fit(X_train)\n",
        "datagen_validation.fit(X_train)\n",
        "\n",
        "train_iterator = datagen.flow(X_train, Y_train, batch_size=256,shuffle=True)\n",
        "validation_iterator = datagen.flow(X_test, Y_test, batch_size=256,shuffle=True)\n",
        "\n",
        "checkpoint = ModelCheckpoint(\"model.hdf5\", monitor='acc', verbose=0, save_best_only=True, mode='max')\n",
        "clr = CyclicLR(base_lr=0.0002, max_lr=0.005,step_size=800, mode='triangular2')\n",
        "callbacks_list = [checkpoint,clr]\n",
        "train_history = model.fit_generator(train_iterator,\n",
        "                    steps_per_epoch=len(train_iterator), \n",
        "                    validation_data = validation_iterator, \n",
        "                    validation_steps = len(validation_iterator),\n",
        "                    epochs=100, verbose=1,\n",
        "                    callbacks=callbacks_list,)\n",
        "\n",
        "print(\"Layer Names: \",[layer.name for layer in model.layers[0:]])\n",
        "\n",
        "model.load_weights(\"model.hdf5\")\n",
        "\n",
        "\n",
        "iterator = datagen.flow(X_train, Y_train, batch_size=256, shuffle=False)\n",
        "score = model.evaluate_generator(iterator,steps=len(iterator))\n",
        "iterator = datagen.flow(X_train, Y_train, batch_size=256, shuffle=False)\n",
        "predictions = model.predict_generator(iterator,steps=len(iterator))\n",
        "_ = inspect_predictions(score, predictions,Y_train, classes=get_cifar10_labels(),print_results=True, plot_results=False)\n",
        "\n",
        "\n",
        "iterator = datagen_validation.flow(X_test, Y_test, batch_size=256, shuffle=False)\n",
        "score = model.evaluate_generator(iterator,steps=len(iterator))\n",
        "iterator = datagen.flow(X_test, Y_test, batch_size=256, shuffle=False)\n",
        "predictions = model.predict_generator(iterator,steps=len(iterator))\n",
        "_ = inspect_predictions(score, predictions,Y_test, classes=get_cifar10_labels(),print_results=True, plot_results=False)"
      ],
      "execution_count": 0,
      "outputs": [
        {
          "output_type": "stream",
          "text": [
            "W0622 03:46:51.343500 140205627406208 deprecation.py:323] From /usr/local/lib/python3.6/dist-packages/tensorflow/python/ops/math_grad.py:1250: add_dispatch_support.<locals>.wrapper (from tensorflow.python.ops.array_ops) is deprecated and will be removed in a future version.\n",
            "Instructions for updating:\n",
            "Use tf.where in 2.0, which has the same broadcast rule as np.where\n"
          ],
          "name": "stderr"
        },
        {
          "output_type": "stream",
          "text": [
            "Epoch 1/100\n",
            "196/196 [==============================] - 47s 242ms/step - loss: 1.9421 - acc: 0.3614 - val_loss: 2.0348 - val_acc: 0.3367\n",
            "Epoch 2/100\n",
            "196/196 [==============================] - 40s 202ms/step - loss: 1.4586 - acc: 0.5432 - val_loss: 3.6039 - val_acc: 0.2621\n",
            "Epoch 3/100\n",
            "196/196 [==============================] - 39s 201ms/step - loss: 1.2164 - acc: 0.6274 - val_loss: 1.8019 - val_acc: 0.5050\n",
            "Epoch 4/100\n",
            "196/196 [==============================] - 39s 199ms/step - loss: 1.0940 - acc: 0.6757 - val_loss: 2.0040 - val_acc: 0.4708\n",
            "Epoch 5/100\n",
            "196/196 [==============================] - 39s 200ms/step - loss: 1.0170 - acc: 0.7087 - val_loss: 1.1714 - val_acc: 0.6648\n",
            "Epoch 6/100\n",
            "196/196 [==============================] - 39s 199ms/step - loss: 0.9182 - acc: 0.7420 - val_loss: 1.1365 - val_acc: 0.6628\n",
            "Epoch 7/100\n",
            "196/196 [==============================] - 39s 200ms/step - loss: 0.8253 - acc: 0.7725 - val_loss: 1.1236 - val_acc: 0.6707\n",
            "Epoch 8/100\n",
            "196/196 [==============================] - 39s 200ms/step - loss: 0.7306 - acc: 0.8018 - val_loss: 0.8189 - val_acc: 0.7609\n",
            "Epoch 9/100\n",
            "196/196 [==============================] - 39s 199ms/step - loss: 0.6650 - acc: 0.8224 - val_loss: 0.8647 - val_acc: 0.7537\n",
            "Epoch 10/100\n",
            "196/196 [==============================] - 39s 199ms/step - loss: 0.6815 - acc: 0.8160 - val_loss: 0.8589 - val_acc: 0.7524\n",
            "Epoch 11/100\n",
            "196/196 [==============================] - 39s 198ms/step - loss: 0.7050 - acc: 0.8071 - val_loss: 0.9411 - val_acc: 0.7263\n",
            "Epoch 12/100\n",
            "196/196 [==============================] - 39s 199ms/step - loss: 0.7350 - acc: 0.7991 - val_loss: 1.1173 - val_acc: 0.6735\n",
            "Epoch 13/100\n",
            "196/196 [==============================] - 39s 199ms/step - loss: 0.7418 - acc: 0.7985 - val_loss: 0.8675 - val_acc: 0.7560\n",
            "Epoch 14/100\n",
            "196/196 [==============================] - 39s 199ms/step - loss: 0.7003 - acc: 0.8118 - val_loss: 0.9063 - val_acc: 0.7408\n",
            "Epoch 15/100\n",
            "196/196 [==============================] - 39s 199ms/step - loss: 0.6480 - acc: 0.8291 - val_loss: 0.8359 - val_acc: 0.7607\n",
            "Epoch 16/100\n",
            "196/196 [==============================] - 39s 199ms/step - loss: 0.5877 - acc: 0.8482 - val_loss: 0.7397 - val_acc: 0.7959\n",
            "Epoch 17/100\n",
            "196/196 [==============================] - 39s 199ms/step - loss: 0.5424 - acc: 0.8643 - val_loss: 0.7127 - val_acc: 0.8005\n",
            "Epoch 18/100\n",
            "196/196 [==============================] - 39s 199ms/step - loss: 0.5430 - acc: 0.8620 - val_loss: 0.7123 - val_acc: 0.7995\n",
            "Epoch 19/100\n",
            "196/196 [==============================] - 39s 198ms/step - loss: 0.5607 - acc: 0.8528 - val_loss: 0.8565 - val_acc: 0.7551\n",
            "Epoch 20/100\n",
            "196/196 [==============================] - 39s 199ms/step - loss: 0.5818 - acc: 0.8480 - val_loss: 0.7323 - val_acc: 0.7993\n",
            "Epoch 21/100\n",
            "196/196 [==============================] - 39s 198ms/step - loss: 0.5946 - acc: 0.8419 - val_loss: 0.7942 - val_acc: 0.7724\n",
            "Epoch 22/100\n",
            "196/196 [==============================] - 39s 198ms/step - loss: 0.5659 - acc: 0.8515 - val_loss: 0.6686 - val_acc: 0.8182\n",
            "Epoch 23/100\n",
            "196/196 [==============================] - 39s 199ms/step - loss: 0.5334 - acc: 0.8623 - val_loss: 0.8081 - val_acc: 0.7761\n",
            "Epoch 24/100\n",
            "196/196 [==============================] - 39s 199ms/step - loss: 0.4973 - acc: 0.8747 - val_loss: 0.6893 - val_acc: 0.8100\n",
            "Epoch 25/100\n",
            "196/196 [==============================] - 39s 199ms/step - loss: 0.4670 - acc: 0.8835 - val_loss: 0.6310 - val_acc: 0.8282\n",
            "Epoch 26/100\n",
            "196/196 [==============================] - 39s 198ms/step - loss: 0.4617 - acc: 0.8845 - val_loss: 0.6659 - val_acc: 0.8170\n",
            "Epoch 27/100\n",
            "196/196 [==============================] - 39s 199ms/step - loss: 0.4734 - acc: 0.8817 - val_loss: 0.6485 - val_acc: 0.8258\n",
            "Epoch 28/100\n",
            "196/196 [==============================] - 39s 198ms/step - loss: 0.4813 - acc: 0.8770 - val_loss: 0.7625 - val_acc: 0.7931\n",
            "Epoch 29/100\n",
            "196/196 [==============================] - 39s 199ms/step - loss: 0.4907 - acc: 0.8735 - val_loss: 0.6784 - val_acc: 0.8127\n",
            "Epoch 30/100\n",
            "196/196 [==============================] - 39s 198ms/step - loss: 0.4860 - acc: 0.8734 - val_loss: 0.6359 - val_acc: 0.8250\n",
            "Epoch 31/100\n",
            "196/196 [==============================] - 39s 199ms/step - loss: 0.4615 - acc: 0.8830 - val_loss: 0.6470 - val_acc: 0.8244\n",
            "Epoch 32/100\n",
            "196/196 [==============================] - 39s 198ms/step - loss: 0.4385 - acc: 0.8915 - val_loss: 0.6102 - val_acc: 0.8335\n",
            "Epoch 33/100\n",
            "196/196 [==============================] - 39s 199ms/step - loss: 0.4179 - acc: 0.8956 - val_loss: 0.6310 - val_acc: 0.8284\n",
            "Epoch 34/100\n",
            "196/196 [==============================] - 39s 199ms/step - loss: 0.4135 - acc: 0.8984 - val_loss: 0.5976 - val_acc: 0.8384\n",
            "Epoch 35/100\n",
            "196/196 [==============================] - 39s 198ms/step - loss: 0.4159 - acc: 0.8946 - val_loss: 0.6216 - val_acc: 0.8344\n",
            "Epoch 36/100\n",
            "196/196 [==============================] - 39s 198ms/step - loss: 0.4199 - acc: 0.8956 - val_loss: 0.6068 - val_acc: 0.8358\n",
            "Epoch 37/100\n",
            "196/196 [==============================] - 39s 198ms/step - loss: 0.4216 - acc: 0.8935 - val_loss: 0.6506 - val_acc: 0.8200\n",
            "Epoch 38/100\n",
            "196/196 [==============================] - 39s 198ms/step - loss: 0.4178 - acc: 0.8933 - val_loss: 0.6551 - val_acc: 0.8205\n",
            "Epoch 39/100\n",
            "196/196 [==============================] - 39s 198ms/step - loss: 0.4069 - acc: 0.8976 - val_loss: 0.6370 - val_acc: 0.8265\n",
            "Epoch 40/100\n",
            "196/196 [==============================] - 39s 199ms/step - loss: 0.3920 - acc: 0.9030 - val_loss: 0.5960 - val_acc: 0.8387\n",
            "Epoch 41/100\n",
            "196/196 [==============================] - 39s 198ms/step - loss: 0.3839 - acc: 0.9059 - val_loss: 0.6376 - val_acc: 0.8271\n",
            "Epoch 42/100\n",
            "196/196 [==============================] - 39s 199ms/step - loss: 0.3793 - acc: 0.9053 - val_loss: 0.5889 - val_acc: 0.8409\n",
            "Epoch 43/100\n",
            "196/196 [==============================] - 39s 199ms/step - loss: 0.3796 - acc: 0.9061 - val_loss: 0.5818 - val_acc: 0.8446\n",
            "Epoch 44/100\n",
            "196/196 [==============================] - 39s 198ms/step - loss: 0.3773 - acc: 0.9071 - val_loss: 0.6755 - val_acc: 0.8194\n",
            "Epoch 45/100\n",
            "196/196 [==============================] - 39s 199ms/step - loss: 0.3777 - acc: 0.9060 - val_loss: 0.6447 - val_acc: 0.8227\n",
            "Epoch 46/100\n",
            "196/196 [==============================] - 39s 199ms/step - loss: 0.3776 - acc: 0.9065 - val_loss: 0.5918 - val_acc: 0.8430\n",
            "Epoch 47/100\n",
            "196/196 [==============================] - 39s 199ms/step - loss: 0.3726 - acc: 0.9089 - val_loss: 0.5809 - val_acc: 0.8453\n",
            "Epoch 48/100\n",
            "196/196 [==============================] - 39s 199ms/step - loss: 0.3650 - acc: 0.9104 - val_loss: 0.6275 - val_acc: 0.8346\n",
            "Epoch 49/100\n",
            "196/196 [==============================] - 39s 199ms/step - loss: 0.3570 - acc: 0.9121 - val_loss: 0.5969 - val_acc: 0.8395\n",
            "Epoch 50/100\n",
            "196/196 [==============================] - 39s 199ms/step - loss: 0.3526 - acc: 0.9141 - val_loss: 0.5720 - val_acc: 0.8458\n",
            "Epoch 51/100\n",
            "196/196 [==============================] - 39s 198ms/step - loss: 0.3548 - acc: 0.9127 - val_loss: 0.5735 - val_acc: 0.8471\n",
            "Epoch 52/100\n",
            "196/196 [==============================] - 39s 198ms/step - loss: 0.3513 - acc: 0.9140 - val_loss: 0.6545 - val_acc: 0.8260\n",
            "Epoch 53/100\n",
            "196/196 [==============================] - 39s 198ms/step - loss: 0.3486 - acc: 0.9145 - val_loss: 0.6136 - val_acc: 0.8344\n",
            "Epoch 54/100\n",
            "196/196 [==============================] - 39s 199ms/step - loss: 0.3515 - acc: 0.9145 - val_loss: 0.6280 - val_acc: 0.8314\n",
            "Epoch 55/100\n",
            "196/196 [==============================] - 39s 198ms/step - loss: 0.3438 - acc: 0.9165 - val_loss: 0.6479 - val_acc: 0.8274\n",
            "Epoch 56/100\n",
            "196/196 [==============================] - 39s 199ms/step - loss: 0.3417 - acc: 0.9157 - val_loss: 0.6046 - val_acc: 0.8348\n",
            "Epoch 57/100\n",
            "196/196 [==============================] - 39s 199ms/step - loss: 0.3357 - acc: 0.9175 - val_loss: 0.5691 - val_acc: 0.8473\n",
            "Epoch 58/100\n",
            "196/196 [==============================] - 39s 199ms/step - loss: 0.3330 - acc: 0.9180 - val_loss: 0.5964 - val_acc: 0.8417\n",
            "Epoch 59/100\n",
            "196/196 [==============================] - 39s 198ms/step - loss: 0.3351 - acc: 0.9185 - val_loss: 0.5982 - val_acc: 0.8406\n",
            "Epoch 60/100\n",
            "196/196 [==============================] - 39s 198ms/step - loss: 0.3341 - acc: 0.9186 - val_loss: 0.5939 - val_acc: 0.8409\n",
            "Epoch 61/100\n",
            "196/196 [==============================] - 39s 199ms/step - loss: 0.3278 - acc: 0.9199 - val_loss: 0.5837 - val_acc: 0.8418\n",
            "Epoch 62/100\n",
            "196/196 [==============================] - 39s 199ms/step - loss: 0.3245 - acc: 0.9224 - val_loss: 0.5732 - val_acc: 0.8476\n",
            "Epoch 63/100\n",
            "196/196 [==============================] - 39s 197ms/step - loss: 0.3274 - acc: 0.9189 - val_loss: 0.5788 - val_acc: 0.8439\n",
            "Epoch 64/100\n",
            "196/196 [==============================] - 39s 198ms/step - loss: 0.3255 - acc: 0.9211 - val_loss: 0.5830 - val_acc: 0.8459\n",
            "Epoch 65/100\n",
            "196/196 [==============================] - 39s 198ms/step - loss: 0.3222 - acc: 0.9222 - val_loss: 0.6391 - val_acc: 0.8296\n",
            "Epoch 66/100\n",
            "196/196 [==============================] - 39s 198ms/step - loss: 0.3158 - acc: 0.9241 - val_loss: 0.5686 - val_acc: 0.8474\n",
            "Epoch 67/100\n",
            "196/196 [==============================] - 39s 198ms/step - loss: 0.3133 - acc: 0.9256 - val_loss: 0.6060 - val_acc: 0.8396\n",
            "Epoch 68/100\n",
            "196/196 [==============================] - 39s 198ms/step - loss: 0.3155 - acc: 0.9237 - val_loss: 0.5797 - val_acc: 0.8467\n",
            "Epoch 69/100\n",
            "196/196 [==============================] - 39s 198ms/step - loss: 0.3131 - acc: 0.9238 - val_loss: 0.6058 - val_acc: 0.8400\n",
            "Epoch 70/100\n",
            "196/196 [==============================] - 39s 198ms/step - loss: 0.3150 - acc: 0.9236 - val_loss: 0.5980 - val_acc: 0.8397\n",
            "Epoch 71/100\n",
            "196/196 [==============================] - 39s 199ms/step - loss: 0.3128 - acc: 0.9242 - val_loss: 0.6038 - val_acc: 0.8392\n",
            "Epoch 72/100\n",
            "196/196 [==============================] - 39s 199ms/step - loss: 0.3121 - acc: 0.9238 - val_loss: 0.5896 - val_acc: 0.8441\n",
            "Epoch 73/100\n",
            "196/196 [==============================] - 39s 199ms/step - loss: 0.3043 - acc: 0.9267 - val_loss: 0.5922 - val_acc: 0.8446\n",
            "Epoch 74/100\n",
            "196/196 [==============================] - 39s 199ms/step - loss: 0.3094 - acc: 0.9260 - val_loss: 0.6030 - val_acc: 0.8402\n",
            "Epoch 75/100\n",
            "196/196 [==============================] - 39s 199ms/step - loss: 0.3050 - acc: 0.9269 - val_loss: 0.5801 - val_acc: 0.8483\n",
            "Epoch 76/100\n",
            "196/196 [==============================] - 39s 199ms/step - loss: 0.3068 - acc: 0.9242 - val_loss: 0.5946 - val_acc: 0.8384\n",
            "Epoch 77/100\n",
            "196/196 [==============================] - 39s 199ms/step - loss: 0.3029 - acc: 0.9255 - val_loss: 0.6054 - val_acc: 0.8380\n",
            "Epoch 78/100\n",
            "196/196 [==============================] - 39s 199ms/step - loss: 0.3025 - acc: 0.9264 - val_loss: 0.6063 - val_acc: 0.8402\n",
            "Epoch 79/100\n",
            "196/196 [==============================] - 39s 199ms/step - loss: 0.2995 - acc: 0.9274 - val_loss: 0.6547 - val_acc: 0.8287\n",
            "Epoch 80/100\n",
            "196/196 [==============================] - 39s 199ms/step - loss: 0.3000 - acc: 0.9266 - val_loss: 0.6071 - val_acc: 0.8367\n",
            "Epoch 81/100\n",
            "196/196 [==============================] - 39s 198ms/step - loss: 0.2968 - acc: 0.9293 - val_loss: 0.5850 - val_acc: 0.8448\n",
            "Epoch 82/100\n",
            "196/196 [==============================] - 39s 199ms/step - loss: 0.2981 - acc: 0.9290 - val_loss: 0.6156 - val_acc: 0.8395\n",
            "Epoch 83/100\n",
            "196/196 [==============================] - 39s 199ms/step - loss: 0.2924 - acc: 0.9303 - val_loss: 0.5872 - val_acc: 0.8474\n",
            "Epoch 84/100\n",
            "196/196 [==============================] - 39s 199ms/step - loss: 0.2913 - acc: 0.9303 - val_loss: 0.5891 - val_acc: 0.8497\n",
            "Epoch 85/100\n",
            "196/196 [==============================] - 39s 199ms/step - loss: 0.2907 - acc: 0.9288 - val_loss: 0.5780 - val_acc: 0.8488\n",
            "Epoch 86/100\n",
            "196/196 [==============================] - 39s 199ms/step - loss: 0.2903 - acc: 0.9296 - val_loss: 0.6197 - val_acc: 0.8373\n",
            "Epoch 87/100\n",
            "196/196 [==============================] - 39s 198ms/step - loss: 0.2884 - acc: 0.9308 - val_loss: 0.5954 - val_acc: 0.8426\n",
            "Epoch 88/100\n",
            "196/196 [==============================] - 39s 199ms/step - loss: 0.2902 - acc: 0.9312 - val_loss: 0.5900 - val_acc: 0.8442\n",
            "Epoch 89/100\n",
            "196/196 [==============================] - 39s 199ms/step - loss: 0.2888 - acc: 0.9310 - val_loss: 0.5876 - val_acc: 0.8442\n",
            "Epoch 90/100\n",
            "196/196 [==============================] - 39s 199ms/step - loss: 0.2850 - acc: 0.9319 - val_loss: 0.6074 - val_acc: 0.8399\n",
            "Epoch 91/100\n",
            "196/196 [==============================] - 39s 198ms/step - loss: 0.2859 - acc: 0.9322 - val_loss: 0.5932 - val_acc: 0.8463\n",
            "Epoch 92/100\n",
            "196/196 [==============================] - 39s 199ms/step - loss: 0.2843 - acc: 0.9319 - val_loss: 0.6418 - val_acc: 0.8298\n",
            "Epoch 93/100\n",
            "196/196 [==============================] - 39s 199ms/step - loss: 0.2838 - acc: 0.9316 - val_loss: 0.5869 - val_acc: 0.8459\n",
            "Epoch 94/100\n",
            "196/196 [==============================] - 39s 199ms/step - loss: 0.2824 - acc: 0.9325 - val_loss: 0.6158 - val_acc: 0.8383\n",
            "Epoch 95/100\n",
            "196/196 [==============================] - 39s 198ms/step - loss: 0.2825 - acc: 0.9332 - val_loss: 0.6050 - val_acc: 0.8435\n",
            "Epoch 96/100\n",
            "196/196 [==============================] - 39s 199ms/step - loss: 0.2809 - acc: 0.9342 - val_loss: 0.5744 - val_acc: 0.8476\n",
            "Epoch 97/100\n",
            "196/196 [==============================] - 39s 199ms/step - loss: 0.2788 - acc: 0.9325 - val_loss: 0.6197 - val_acc: 0.8405\n",
            "Epoch 98/100\n",
            "196/196 [==============================] - 39s 199ms/step - loss: 0.2753 - acc: 0.9346 - val_loss: 0.6105 - val_acc: 0.8441\n",
            "Epoch 99/100\n",
            "196/196 [==============================] - 39s 198ms/step - loss: 0.2793 - acc: 0.9333 - val_loss: 0.6250 - val_acc: 0.8354\n",
            "Epoch 100/100\n",
            "196/196 [==============================] - 39s 198ms/step - loss: 0.2739 - acc: 0.9340 - val_loss: 0.5862 - val_acc: 0.8478\n",
            "Layer Names:  ['input_1', 'separable_conv2d_1', 'batch_normalization_1', 'activation_1', 'dropout_1', 'conv2d_1', 'batch_normalization_2', 'activation_2', 'conv2d_2', 'batch_normalization_3', 'activation_3', 'dropout_2', 'conv2d_3', 'batch_normalization_4', 'activation_4', 'conv2d_4', 'batch_normalization_5', 'activation_5', 'dropout_3', 'concatenate_1', 'conv2d_5', 'batch_normalization_6', 'activation_6', 'separable_conv2d_2', 'batch_normalization_7', 'activation_7', 'dropout_4', 'concatenate_2', 'max_pooling2d_1', 'conv2d_6', 'batch_normalization_8', 'activation_8', 'separable_conv2d_3', 'batch_normalization_9', 'activation_9', 'lambda_7', 'lambda_1', 'dropout_5', 'concatenate_3', 'conv2d_7', 'batch_normalization_10', 'activation_10', 'conv2d_8', 'batch_normalization_11', 'activation_11', 'dropout_6', 'lambda_5', 'concatenate_4', 'conv2d_9', 'batch_normalization_12', 'activation_12', 'separable_conv2d_4', 'batch_normalization_13', 'activation_13', 'dropout_7', 'concatenate_5', 'conv2d_10', 'batch_normalization_14', 'activation_14', 'separable_conv2d_5', 'batch_normalization_15', 'activation_15', 'dropout_8', 'concatenate_6', 'max_pooling2d_2', 'lambda_11', 'concatenate_7', 'conv2d_11', 'batch_normalization_16', 'activation_16', 'conv2d_12', 'batch_normalization_17', 'activation_17', 'lambda_13', 'lambda_4', 'dropout_9', 'lambda_8', 'concatenate_8', 'conv2d_13', 'batch_normalization_18', 'activation_18', 'separable_conv2d_6', 'batch_normalization_19', 'activation_19', 'lambda_6', 'dropout_10', 'lambda_9', 'concatenate_9', 'conv2d_14', 'batch_normalization_20', 'activation_20', 'conv2d_15', 'batch_normalization_21', 'activation_21', 'dropout_11', 'lambda_2', 'concatenate_10', 'conv2d_16', 'batch_normalization_22', 'activation_22', 'separable_conv2d_7', 'batch_normalization_23', 'activation_23', 'dropout_12', 'concatenate_11', 'conv2d_17', 'batch_normalization_24', 'activation_24', 'global_average_pooling2d_1', 'activation_25']\n",
            " =-=  =-=  =-=  =-=  =-=  =-=  =-=  =-=  =-=  =-=  =-=  =-=  =-=  =-=  =-=  =-=  =-=  =-=  =-=  =-= \n",
            "Score =  [0.2631824646568298, 0.9369200000190735]\n",
            "Balanced Accuracy = 93.84%, Accuracy = 93.84%\n",
            " =-=  =-=  =-=  =-=  =-=  =-=  =-=  =-=  =-=  =-=  =-=  =-=  =-=  =-=  =-=  =-=  =-=  =-=  =-=  =-= \n",
            "Score =  [0.5835708273649216, 0.8553]\n",
            "Balanced Accuracy = 84.09%, Accuracy = 84.09%\n"
          ],
          "name": "stdout"
        }
      ]
    },
    {
      "cell_type": "code",
      "metadata": {
        "id": "fL0a8crpbWWx",
        "colab_type": "code",
        "colab": {}
      },
      "source": [
        "from IPython.display import SVG\n",
        "from keras.utils.vis_utils import model_to_dot\n",
        "m2d = model_to_dot(model, show_shapes=True,)\n",
        "m2d.set_size('24x36')\n",
        "SVG(m2d.create(prog='dot', format='svg'))"
      ],
      "execution_count": 0,
      "outputs": []
    },
    {
      "cell_type": "code",
      "metadata": {
        "id": "KInFDrMEc-Wr",
        "colab_type": "code",
        "colab": {}
      },
      "source": [
        "from keras.utils import plot_model\n",
        "plot_model(model, to_file='model.png', show_shapes=True, show_layer_names=False)"
      ],
      "execution_count": 0,
      "outputs": []
    },
    {
      "cell_type": "code",
      "metadata": {
        "id": "pMCKf5Y-dOjA",
        "colab_type": "code",
        "colab": {}
      },
      "source": [
        ""
      ],
      "execution_count": 0,
      "outputs": []
    }
  ]
}