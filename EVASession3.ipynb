{
  "nbformat": 4,
  "nbformat_minor": 0,
  "metadata": {
    "colab": {
      "name": "EVASession3.ipynb",
      "version": "0.3.2",
      "provenance": [],
      "collapsed_sections": [],
      "include_colab_link": true
    },
    "kernelspec": {
      "name": "python3",
      "display_name": "Python 3"
    },
    "accelerator": "GPU"
  },
  "cells": [
    {
      "cell_type": "markdown",
      "metadata": {
        "id": "view-in-github",
        "colab_type": "text"
      },
      "source": [
        "<a href=\"https://colab.research.google.com/github/Vardhan77/DeepLearningWithEVA/blob/master/EVASession3.ipynb\" target=\"_parent\"><img src=\"https://colab.research.google.com/assets/colab-badge.svg\" alt=\"Open In Colab\"/></a>"
      ]
    },
    {
      "cell_type": "markdown",
      "metadata": {
        "id": "aNyZv-Ec52ot",
        "colab_type": "text"
      },
      "source": [
        "# **Import Libraries and modules**"
      ]
    },
    {
      "cell_type": "code",
      "metadata": {
        "id": "3m3w1Cw49Zkt",
        "colab_type": "code",
        "outputId": "a094f5fa-01c0-4296-c355-4f9926f5b9d0",
        "colab": {
          "base_uri": "https://localhost:8080/",
          "height": 34
        }
      },
      "source": [
        "# https://keras.io/\n",
        "!pip install -q keras\n",
        "import keras "
      ],
      "execution_count": 1,
      "outputs": [
        {
          "output_type": "stream",
          "text": [
            "Using TensorFlow backend.\n"
          ],
          "name": "stderr"
        }
      ]
    },
    {
      "cell_type": "code",
      "metadata": {
        "id": "Eso6UHE080D4",
        "colab_type": "code",
        "colab": {}
      },
      "source": [
        "import numpy as np\n",
        "\n",
        "from keras.models import Sequential\n",
        "from keras.layers import Dense, Dropout, Activation, Flatten, Add\n",
        "from keras.layers import Convolution2D, MaxPooling2D\n",
        "from keras.utils import np_utils\n",
        "\n",
        "from keras.datasets import mnist #The Avengers Assemble"
      ],
      "execution_count": 0,
      "outputs": []
    },
    {
      "cell_type": "markdown",
      "metadata": {
        "id": "zByEi95J86RD",
        "colab_type": "text"
      },
      "source": [
        "### Load pre-shuffled MNIST data into train and test sets"
      ]
    },
    {
      "cell_type": "code",
      "metadata": {
        "id": "7eRM0QWN83PV",
        "colab_type": "code",
        "outputId": "6706ee9e-a0e3-424e-a8c6-249f98dbec3a",
        "colab": {
          "base_uri": "https://localhost:8080/",
          "height": 50
        }
      },
      "source": [
        "(X_train, y_train), (X_test, y_test) = mnist.load_data() #Loadin the data from mnist folder into a dataframe of training and test images."
      ],
      "execution_count": 3,
      "outputs": [
        {
          "output_type": "stream",
          "text": [
            "Downloading data from https://s3.amazonaws.com/img-datasets/mnist.npz\n",
            "11493376/11490434 [==============================] - 2s 0us/step\n"
          ],
          "name": "stdout"
        }
      ]
    },
    {
      "cell_type": "code",
      "metadata": {
        "id": "4a4Be72j8-ZC",
        "colab_type": "code",
        "outputId": "f460db06-4cbb-48fb-9b10-e99861f2a30c",
        "colab": {
          "base_uri": "https://localhost:8080/",
          "height": 302
        }
      },
      "source": [
        "print (X_train.shape)\n",
        "from matplotlib import pyplot as plt\n",
        "%matplotlib inline\n",
        "plt.imshow(X_train[0])"
      ],
      "execution_count": 4,
      "outputs": [
        {
          "output_type": "stream",
          "text": [
            "(60000, 28, 28)\n"
          ],
          "name": "stdout"
        },
        {
          "output_type": "execute_result",
          "data": {
            "text/plain": [
              "<matplotlib.image.AxesImage at 0x7fa343bab5c0>"
            ]
          },
          "metadata": {
            "tags": []
          },
          "execution_count": 4
        },
        {
          "output_type": "display_data",
          "data": {
            "image/png": "[encoded data removed]",
            "text/plain": [
              "<Figure size 432x288 with 1 Axes>"
            ]
          },
          "metadata": {
            "tags": []
          }
        }
      ]
    },
    {
      "cell_type": "code",
      "metadata": {
        "id": "dkmprriw9AnZ",
        "colab_type": "code",
        "colab": {}
      },
      "source": [
        "X_train = X_train.reshape(X_train.shape[0], 28, 28,1)\n",
        "X_test = X_test.reshape(X_test.shape[0], 28, 28,1)"
      ],
      "execution_count": 0,
      "outputs": []
    },
    {
      "cell_type": "code",
      "metadata": {
        "id": "X2m4YS4E9CRh",
        "colab_type": "code",
        "colab": {}
      },
      "source": [
        "X_train = X_train.astype('float32')\n",
        "X_test = X_test.astype('float32')\n",
        "X_train /= 255\n",
        "X_test /= 255"
      ],
      "execution_count": 0,
      "outputs": []
    },
    {
      "cell_type": "code",
      "metadata": {
        "id": "0Mn0vAYD9DvB",
        "colab_type": "code",
        "outputId": "ad7bd22d-ea1e-459a-a078-69798cf07e93",
        "colab": {
          "base_uri": "https://localhost:8080/",
          "height": 34
        }
      },
      "source": [
        "y_train[:10]"
      ],
      "execution_count": 7,
      "outputs": [
        {
          "output_type": "execute_result",
          "data": {
            "text/plain": [
              "array([5, 0, 4, 1, 9, 2, 1, 3, 1, 4], dtype=uint8)"
            ]
          },
          "metadata": {
            "tags": []
          },
          "execution_count": 7
        }
      ]
    },
    {
      "cell_type": "code",
      "metadata": {
        "id": "ZG8JiXR39FHC",
        "colab_type": "code",
        "colab": {}
      },
      "source": [
        "# Convert 1-dimensional class arrays to 10-dimensional class matrices\n",
        "Y_train = np_utils.to_categorical(y_train, 10)\n",
        "Y_test = np_utils.to_categorical(y_test, 10)"
      ],
      "execution_count": 0,
      "outputs": []
    },
    {
      "cell_type": "code",
      "metadata": {
        "id": "fYlFRvKS9HMB",
        "colab_type": "code",
        "outputId": "ead1e566-367a-4b9c-86e4-258e61b93355",
        "colab": {
          "base_uri": "https://localhost:8080/",
          "height": 185
        }
      },
      "source": [
        "Y_train[:10]\n"
      ],
      "execution_count": 9,
      "outputs": [
        {
          "output_type": "execute_result",
          "data": {
            "text/plain": [
              "array([[0., 0., 0., 0., 0., 1., 0., 0., 0., 0.],\n",
              "       [1., 0., 0., 0., 0., 0., 0., 0., 0., 0.],\n",
              "       [0., 0., 0., 0., 1., 0., 0., 0., 0., 0.],\n",
              "       [0., 1., 0., 0., 0., 0., 0., 0., 0., 0.],\n",
              "       [0., 0., 0., 0., 0., 0., 0., 0., 0., 1.],\n",
              "       [0., 0., 1., 0., 0., 0., 0., 0., 0., 0.],\n",
              "       [0., 1., 0., 0., 0., 0., 0., 0., 0., 0.],\n",
              "       [0., 0., 0., 1., 0., 0., 0., 0., 0., 0.],\n",
              "       [0., 1., 0., 0., 0., 0., 0., 0., 0., 0.],\n",
              "       [0., 0., 0., 0., 1., 0., 0., 0., 0., 0.]], dtype=float32)"
            ]
          },
          "metadata": {
            "tags": []
          },
          "execution_count": 9
        }
      ]
    },
    {
      "cell_type": "code",
      "metadata": {
        "id": "osKqT73Q9JJB",
        "colab_type": "code",
        "outputId": "afefa2a6-4581-47f6-fdb0-5021c72e84f1",
        "colab": {
          "base_uri": "https://localhost:8080/",
          "height": 238
        }
      },
      "source": [
        "from keras.layers import Activation\n",
        "model = Sequential()\n",
        "\n",
        " \n",
        "model.add(Convolution2D(14, 3, 3, activation='relu', input_shape=(28,28,1))) #26\n",
        "\n",
        "model.add(Convolution2D(18, 3, 3, activation='relu')) #24\n",
        "\n",
        "model.add(Convolution2D(18, 3, 3, activation='relu')) #22\n",
        "\n",
        "model.add(MaxPooling2D(pool_size=(2, 2)))#11\n",
        "\n",
        "model.add(Convolution2D(14, 3, 3, activation='relu')) #9\n",
        "\n",
        "model.add(Convolution2D(18, 3, 3, activation='relu')) #7\n",
        "\n",
        "model.add(Convolution2D(18, 3, 3, activation='relu')) #5\n",
        "\n",
        "model.add(Convolution2D(18, 1, 1, activation='relu')) #5\n",
        "\n",
        "\n",
        "\n",
        "#model.add(Convolution2D(10, 1))\n",
        "\n",
        "model.add(Convolution2D(10, 5)) \n",
        "\n",
        "#model.add(Convolution2D(10, 3))\n",
        "\n",
        "model.add(Flatten())\n",
        "model.add(Activation('softmax'))"
      ],
      "execution_count": 53,
      "outputs": [
        {
          "output_type": "stream",
          "text": [
            "/usr/local/lib/python3.6/dist-packages/ipykernel_launcher.py:5: UserWarning: Update your `Conv2D` call to the Keras 2 API: `Conv2D(14, (3, 3), activation=\"relu\", input_shape=(28, 28, 1...)`\n",
            "  \"\"\"\n",
            "/usr/local/lib/python3.6/dist-packages/ipykernel_launcher.py:7: UserWarning: Update your `Conv2D` call to the Keras 2 API: `Conv2D(18, (3, 3), activation=\"relu\")`\n",
            "  import sys\n",
            "/usr/local/lib/python3.6/dist-packages/ipykernel_launcher.py:9: UserWarning: Update your `Conv2D` call to the Keras 2 API: `Conv2D(18, (3, 3), activation=\"relu\")`\n",
            "  if __name__ == '__main__':\n",
            "/usr/local/lib/python3.6/dist-packages/ipykernel_launcher.py:13: UserWarning: Update your `Conv2D` call to the Keras 2 API: `Conv2D(14, (3, 3), activation=\"relu\")`\n",
            "  del sys.path[0]\n",
            "/usr/local/lib/python3.6/dist-packages/ipykernel_launcher.py:15: UserWarning: Update your `Conv2D` call to the Keras 2 API: `Conv2D(18, (3, 3), activation=\"relu\")`\n",
            "  from ipykernel import kernelapp as app\n",
            "/usr/local/lib/python3.6/dist-packages/ipykernel_launcher.py:17: UserWarning: Update your `Conv2D` call to the Keras 2 API: `Conv2D(18, (3, 3), activation=\"relu\")`\n",
            "/usr/local/lib/python3.6/dist-packages/ipykernel_launcher.py:19: UserWarning: Update your `Conv2D` call to the Keras 2 API: `Conv2D(18, (1, 1), activation=\"relu\")`\n"
          ],
          "name": "stderr"
        }
      ]
    },
    {
      "cell_type": "code",
      "metadata": {
        "id": "TzdAYg1k9K7Z",
        "colab_type": "code",
        "outputId": "56635696-3d76-4192-f518-a0067cc3cabf",
        "colab": {
          "base_uri": "https://localhost:8080/",
          "height": 504
        }
      },
      "source": [
        "model.summary()"
      ],
      "execution_count": 54,
      "outputs": [
        {
          "output_type": "stream",
          "text": [
            "_________________________________________________________________\n",
            "Layer (type)                 Output Shape              Param #   \n",
            "=================================================================\n",
            "conv2d_105 (Conv2D)          (None, 26, 26, 14)        140       \n",
            "_________________________________________________________________\n",
            "conv2d_106 (Conv2D)          (None, 24, 24, 18)        2286      \n",
            "_________________________________________________________________\n",
            "conv2d_107 (Conv2D)          (None, 22, 22, 18)        2934      \n",
            "_________________________________________________________________\n",
            "max_pooling2d_11 (MaxPooling (None, 11, 11, 18)        0         \n",
            "_________________________________________________________________\n",
            "conv2d_108 (Conv2D)          (None, 9, 9, 14)          2282      \n",
            "_________________________________________________________________\n",
            "conv2d_109 (Conv2D)          (None, 7, 7, 18)          2286      \n",
            "_________________________________________________________________\n",
            "conv2d_110 (Conv2D)          (None, 5, 5, 18)          2934      \n",
            "_________________________________________________________________\n",
            "conv2d_111 (Conv2D)          (None, 5, 5, 18)          342       \n",
            "_________________________________________________________________\n",
            "conv2d_112 (Conv2D)          (None, 1, 1, 10)          4510      \n",
            "_________________________________________________________________\n",
            "flatten_11 (Flatten)         (None, 10)                0         \n",
            "_________________________________________________________________\n",
            "activation_11 (Activation)   (None, 10)                0         \n",
            "=================================================================\n",
            "Total params: 17,714\n",
            "Trainable params: 17,714\n",
            "Non-trainable params: 0\n",
            "_________________________________________________________________\n"
          ],
          "name": "stdout"
        }
      ]
    },
    {
      "cell_type": "code",
      "metadata": {
        "id": "Zp6SuGrL9M3h",
        "colab_type": "code",
        "colab": {}
      },
      "source": [
        "model.compile(loss='categorical_crossentropy',\n",
        "             optimizer='adam',\n",
        "             metrics=['accuracy'])"
      ],
      "execution_count": 0,
      "outputs": []
    },
    {
      "cell_type": "code",
      "metadata": {
        "id": "4xWoKhPY9Of5",
        "colab_type": "code",
        "outputId": "0d305e6c-2e20-47bb-ec0b-7811af0cff4e",
        "colab": {
          "base_uri": "https://localhost:8080/",
          "height": 403
        }
      },
      "source": [
        "model.fit(X_train, Y_train, batch_size=32, nb_epoch=10, verbose=1)"
      ],
      "execution_count": 56,
      "outputs": [
        {
          "output_type": "stream",
          "text": [
            "/usr/local/lib/python3.6/dist-packages/ipykernel_launcher.py:1: UserWarning: The `nb_epoch` argument in `fit` has been renamed `epochs`.\n",
            "  \"\"\"Entry point for launching an IPython kernel.\n"
          ],
          "name": "stderr"
        },
        {
          "output_type": "stream",
          "text": [
            "Epoch 1/10\n",
            "60000/60000 [==============================] - 12s 203us/step - loss: 0.2022 - acc: 0.9365\n",
            "Epoch 2/10\n",
            "60000/60000 [==============================] - 11s 188us/step - loss: 0.0682 - acc: 0.9792\n",
            "Epoch 3/10\n",
            "60000/60000 [==============================] - 11s 190us/step - loss: 0.0527 - acc: 0.9841\n",
            "Epoch 4/10\n",
            "60000/60000 [==============================] - 12s 194us/step - loss: 0.0425 - acc: 0.9864\n",
            "Epoch 5/10\n",
            "60000/60000 [==============================] - 11s 188us/step - loss: 0.0365 - acc: 0.9889\n",
            "Epoch 6/10\n",
            "60000/60000 [==============================] - 11s 189us/step - loss: 0.0322 - acc: 0.9898\n",
            "Epoch 7/10\n",
            "60000/60000 [==============================] - 12s 197us/step - loss: 0.0287 - acc: 0.9910\n",
            "Epoch 8/10\n",
            "60000/60000 [==============================] - 11s 186us/step - loss: 0.0256 - acc: 0.9918\n",
            "Epoch 9/10\n",
            "60000/60000 [==============================] - 11s 186us/step - loss: 0.0230 - acc: 0.9925\n",
            "Epoch 10/10\n",
            "60000/60000 [==============================] - 11s 187us/step - loss: 0.0219 - acc: 0.9929\n"
          ],
          "name": "stdout"
        },
        {
          "output_type": "execute_result",
          "data": {
            "text/plain": [
              "<keras.callbacks.History at 0x7fa2f79c6160>"
            ]
          },
          "metadata": {
            "tags": []
          },
          "execution_count": 56
        }
      ]
    },
    {
      "cell_type": "code",
      "metadata": {
        "id": "AtsH-lLk-eLb",
        "colab_type": "code",
        "colab": {}
      },
      "source": [
        "score = model.evaluate(X_test, Y_test, verbose=0)"
      ],
      "execution_count": 0,
      "outputs": []
    },
    {
      "cell_type": "code",
      "metadata": {
        "id": "mkX8JMv79q9r",
        "colab_type": "code",
        "outputId": "d34a7fb4-d06b-4f02-e156-fcfae553eaef",
        "colab": {
          "base_uri": "https://localhost:8080/",
          "height": 34
        }
      },
      "source": [
        "print(score)"
      ],
      "execution_count": 58,
      "outputs": [
        {
          "output_type": "stream",
          "text": [
            "[0.03208230428835231, 0.9909]\n"
          ],
          "name": "stdout"
        }
      ]
    },
    {
      "cell_type": "code",
      "metadata": {
        "id": "OCWoJkwE9suh",
        "colab_type": "code",
        "colab": {}
      },
      "source": [
        "y_pred = model.predict(X_test)"
      ],
      "execution_count": 0,
      "outputs": []
    },
    {
      "cell_type": "code",
      "metadata": {
        "id": "Ym7iCFBm9uBs",
        "colab_type": "code",
        "outputId": "78eac739-1698-40f6-9393-a413a80c3e8f",
        "colab": {
          "base_uri": "https://localhost:8080/",
          "height": 487
        }
      },
      "source": [
        "print(y_pred[:9])\n",
        "print(y_test[:9])"
      ],
      "execution_count": 60,
      "outputs": [
        {
          "output_type": "stream",
          "text": [
            "[[1.23363689e-11 1.07815321e-13 1.15183646e-07 7.53561924e-09\n",
            "  2.44284090e-15 4.41224704e-12 1.36346621e-18 9.99999881e-01\n",
            "  4.94079944e-10 1.59456661e-08]\n",
            " [4.34724236e-11 3.11660209e-08 1.00000000e+00 1.79421527e-08\n",
            "  9.65764014e-12 1.00832916e-12 1.57340345e-08 2.79438287e-14\n",
            "  5.03889208e-10 5.60132704e-11]\n",
            " [1.96612684e-10 9.99959469e-01 1.95702250e-06 1.52254620e-09\n",
            "  5.17525586e-06 9.36859487e-06 1.32670050e-06 1.18361040e-05\n",
            "  1.06454199e-05 2.74455147e-07]\n",
            " [9.99979377e-01 3.04671869e-12 8.25597013e-09 5.63796505e-07\n",
            "  2.44688186e-10 1.28085060e-06 1.54833488e-05 7.18920701e-10\n",
            "  1.99179070e-07 3.03302704e-06]\n",
            " [9.49695669e-11 1.24199468e-12 4.90404245e-11 2.09373773e-12\n",
            "  9.99992847e-01 3.76757248e-09 1.04418881e-07 1.58963953e-11\n",
            "  1.01760037e-07 6.96135885e-06]\n",
            " [7.36693692e-11 9.99940991e-01 4.64400074e-07 1.40651463e-10\n",
            "  1.06549132e-05 8.79014763e-08 3.75640106e-08 3.40224105e-05\n",
            "  1.30978451e-05 6.65185553e-07]\n",
            " [8.74319180e-20 6.83604950e-09 3.34478834e-11 2.24614901e-12\n",
            "  9.99996305e-01 4.92902497e-10 2.93557797e-15 8.84654412e-08\n",
            "  1.18891512e-06 2.38561302e-06]\n",
            " [3.67059820e-11 3.57415608e-09 2.78815682e-09 1.90481733e-05\n",
            "  1.42512881e-05 6.40421740e-06 1.02350745e-12 1.94245664e-09\n",
            "  3.73769922e-06 9.99956608e-01]\n",
            " [2.08916280e-08 4.91353215e-13 5.21620663e-11 5.45456569e-09\n",
            "  3.35465786e-13 9.81246412e-01 1.83904320e-02 4.47463925e-14\n",
            "  3.63033439e-04 5.20609653e-08]]\n",
            "[7 2 1 0 4 1 4 9 5]\n"
          ],
          "name": "stdout"
        }
      ]
    },
    {
      "cell_type": "code",
      "metadata": {
        "id": "CT--y98_dr2T",
        "colab_type": "code",
        "colab": {}
      },
      "source": [
        "layer_dict = dict([(layer.name, layer) for layer in model.layers])"
      ],
      "execution_count": 0,
      "outputs": []
    },
    {
      "cell_type": "code",
      "metadata": {
        "id": "2GY4Upv4dsUR",
        "colab_type": "code",
        "outputId": "bea06ad6-e51c-4cf9-a6e9-1437555bb87f",
        "colab": {
          "base_uri": "https://localhost:8080/",
          "height": 741
        }
      },
      "source": [
        "import numpy as np\n",
        "from matplotlib import pyplot as plt\n",
        "from keras import backend as K\n",
        "%matplotlib inline\n",
        "# util function to convert a tensor into a valid image\n",
        "def deprocess_image(x):\n",
        "    # normalize tensor: center on 0., ensure std is 0.1\n",
        "    x -= x.mean()\n",
        "    x /= (x.std() + 1e-5)\n",
        "    x *= 0.1\n",
        "\n",
        "    # clip to [0, 1]\n",
        "    x += 0.5\n",
        "    x = np.clip(x, 0, 1)\n",
        "\n",
        "    # convert to RGB array\n",
        "    x *= 255\n",
        "    #x = x.transpose((1, 2, 0))\n",
        "    x = np.clip(x, 0, 255).astype('uint8')\n",
        "    return x\n",
        "\n",
        "def vis_img_in_filter(img = np.array(X_train[2]).reshape((1, 28, 28, 1)).astype(np.float64), \n",
        "                      layer_name = 'conv2d_105'):\n",
        "    layer_output = layer_dict[layer_name].output\n",
        "    img_ascs = list()\n",
        "    for filter_index in range(layer_output.shape[3]):\n",
        "        # build a loss function that maximizes the activation\n",
        "        # of the nth filter of the layer considered\n",
        "        loss = K.mean(layer_output[:, :, :, filter_index])\n",
        "\n",
        "        # compute the gradient of the input picture wrt this loss\n",
        "        grads = K.gradients(loss, model.input)[0]\n",
        "\n",
        "        # normalization trick: we normalize the gradient\n",
        "        grads /= (K.sqrt(K.mean(K.square(grads))) + 1e-5)\n",
        "\n",
        "        # this function returns the loss and grads given the input picture\n",
        "        iterate = K.function([model.input], [loss, grads])\n",
        "\n",
        "        # step size for gradient ascent\n",
        "        step = 5.\n",
        "\n",
        "        img_asc = np.array(img)\n",
        "        # run gradient ascent for 20 steps\n",
        "        for i in range(20):\n",
        "            loss_value, grads_value = iterate([img_asc])\n",
        "            img_asc += grads_value * step\n",
        "\n",
        "        img_asc = img_asc[0]\n",
        "        img_ascs.append(deprocess_image(img_asc).reshape((28, 28)))\n",
        "        \n",
        "    if layer_output.shape[3] >= 35:\n",
        "        plot_x, plot_y = 6, 6\n",
        "    elif layer_output.shape[3] >= 23:\n",
        "        plot_x, plot_y = 4, 6\n",
        "    elif layer_output.shape[3] >= 11:\n",
        "        plot_x, plot_y = 2, 6\n",
        "    else:\n",
        "        plot_x, plot_y = 1, 2\n",
        "    fig, ax = plt.subplots(plot_x, plot_y, figsize = (12, 12))\n",
        "    ax[0, 0].imshow(img.reshape((28, 28)), cmap = 'gray')\n",
        "    ax[0, 0].set_title('Input image')\n",
        "    fig.suptitle('Input image and %s filters' % (layer_name,))\n",
        "    fig.tight_layout(pad = 0.3, rect = [0, 0, 0.9, 0.9])\n",
        "    for (x, y) in [(i, j) for i in range(plot_x) for j in range(plot_y)]:\n",
        "        if x == 0 and y == 0:\n",
        "            continue\n",
        "        ax[x, y].imshow(img_ascs[x * plot_y + y - 1], cmap = 'gray')\n",
        "        ax[x, y].set_title('filter %d' % (x * plot_y + y - 1))\n",
        "\n",
        "vis_img_in_filter()"
      ],
      "execution_count": 62,
      "outputs": [
        {
          "output_type": "display_data",
          "data": {
            "image/png": "[encoded data removed]",
            "text/plain": [
              "<Figure size 864x864 with 12 Axes>"
            ]
          },
          "metadata": {
            "tags": []
          }
        }
      ]
    },
    {
      "cell_type": "code",
      "metadata": {
        "id": "9tvptcn8dxvp",
        "colab_type": "code",
        "colab": {}
      },
      "source": [
        ""
      ],
      "execution_count": 0,
      "outputs": []
    },
    {
      "cell_type": "markdown",
      "metadata": {
        "id": "kgD7YNw97TPu",
        "colab_type": "text"
      },
      "source": [
        "1st Try :\n",
        "\n",
        "Tried going deeper into the network. \n",
        "Added layers of (convolutions of 3,3 followed by convolutions of 1,1).\n",
        "\n",
        "Kept the number of parameters upto 30k.(reduced it by half).\n",
        "\n",
        "Observation: 1. Val Acc - reduced by 0.10%\n",
        "                        2. First Training epoch accuracy had increase of 1%.\n",
        "                        \n",
        "             \n",
        "2nd Try:\n",
        "\n",
        "Will go more deeper and reduce the number of parameters.\n",
        "Added more 3,3 and 1,1.\n",
        "No max pool yet\n",
        "\n",
        "Observation: 1. Val Acc increased by 0.2%.\n",
        "                        2. first Training epoch accuracy decresed by 5%\n",
        "                        3.overfitting slight\n",
        "3rd try :\n",
        "Will go more deeper and reduce the number of parameters.\n",
        "Added more 3,3 and 1,1.\n",
        "No max pool yet\n",
        "Parameter- 50k\n",
        "Observation: 1. Val Acc decreased by 2%.\n",
        "                        2. first Training epoch accuracy decresed by 15%.\n",
        "                        3. there's overfitting\n",
        "                        \n",
        " 4th try: Removed few 1,1 convolutions.\n",
        " No max pool.\n",
        " Parameter 49k.\n",
        " Observation: 1. Val Acc - 98.62%\n",
        "                          2. First training accuracy was 80% around.\n",
        "                          3. No overfitiing.\n",
        "                          \n",
        "  side note- i think first training accuracy of the network should be bad for the network to not overfit.\n",
        "  Also Pyramid networks wont work the best.\n",
        "  \n",
        "  \n",
        "  So finally going basic.\n",
        "  \n",
        "  Add Conv - Conv - Max Pool.\n",
        "  Reduce number of channels.\n",
        "  Got 17k parameters.\n",
        "  Accuracy aint that bad. Validation Goes upto 99.05.\n",
        "  While training accuracy lingers around 99.5%.\n",
        "  \n",
        "  "
      ]
    }
  ]
}